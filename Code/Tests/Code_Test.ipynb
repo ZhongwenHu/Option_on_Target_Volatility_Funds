{
 "cells": [
  {
   "cell_type": "code",
   "execution_count": 229,
   "metadata": {},
   "outputs": [],
   "source": [
    "import numpy as np\n",
    "import numpy as np\n",
    "import matplotlib.pyplot as plt\n",
    "import random as rnd\n",
    "from scipy.interpolate import interp1d"
   ]
  },
  {
   "cell_type": "markdown",
   "metadata": {},
   "source": [
    " metodi “speciali” che sono identificati dalla presenza di due underscore prima e dopo del nome. Questi metodi non vengono chiamati direttamente facendo inst._metodo_, ma vengono in genere chiamati automaticamente in situazioni particolari.\n",
    " \n",
    "il metodo init viene chiamato ogni volta in cui l'istanza viene creata. Init è il costruttore della classe, ogni argomento passato alla classe viene automaticamente passato al costruttore. In realtà però non è un vero e proprio costruttore perchè non crea l'istanza ma semplicemente la inizializza\n",
    "\n",
    "\n",
    "Gli attributi di istanza sono generalmente più comuni e si dichiarano facendo istanza.attributo = valore. Quando un attributo di istanza viene dichiarato all’interno di un metodo (ad esempio l’__init__), si usa self.attributo = valore, dato che il self si riferisce all’istanza\n",
    "\n",
    "\n",
    "È anche possibile aggiungere o rimuovere attributi dalle istanze, ma generalmente sconsigliato, dato che è preferibile avere gli stessi attributi (anche se con valori diversi) su tutte le istanze della stessa classe:\n",
    "- verifichiamo gli attributi e metodi dell'istanzavusando dir() (i metodi speciali sono stati omessi) dir(oggetto di tipo classe)\n",
    "- aggiungo attributo all'istanza rex.job\n",
    "- rimuovere attributo del rex.job\n",
    "\n",
    "Gli attributi di classe sono valori legati alla classe, che sono comuni e accessibili da tutte le istanze. Per dichiarare attributi di classe, esistono due modi: usando classe.attributo = valore o usando attributo = valore nel corpo della dichiarazione di una classe\n",
    "\n",
    "Se ora volessi che una classe erediti da un'altra, basta aggiungere il nome della classe base (o delle classi, nel caso dell’ereditarietà multipla) tra parentesi dopo il nome della sottoclasse\n",
    "\n",
    "L'istruzione __pass__ non ha effetti: è stata usata per il solo fatto che la definizione prevede un corpo che deve ancora essere scritto."
   ]
  },
  {
   "cell_type": "code",
   "execution_count": 1023,
   "metadata": {},
   "outputs": [],
   "source": [
    "def error(AV,AV2,n,l):  # Function for statistical uncertainty estimation\n",
    "    if n==0:\n",
    "        return 0\n",
    "    else:\n",
    "        return np.sqrt((AV2[n][l] - AV[n][l]**2)/n)\n",
    "\n",
    "\n",
    "\n",
    "def N(x):\n",
    "    return 0.5 * (1. + np.erf(x / np.sqrt(2.)))\n",
    "    \n",
    "def Monte_Carlo_Analisys(data,N_block):\n",
    "    N = N_block\n",
    "    M= int(len(data))              # Total number of throws\n",
    "    L=int(M/N)           # Number of throws in each block, please use for M a multiple of N\n",
    "    K = int(len(data.T))\n",
    "    ave = np.zeros((N,K))\n",
    "    av2 = np.zeros((N,K))\n",
    "    sum_prog = np.zeros((N,K))\n",
    "    su2_prog = np.zeros((N,K))\n",
    "    err_prog = np.zeros((N,K))\n",
    "    #x = np.arange(N)\n",
    "    #x*=L\n",
    "    for l in range(K):\n",
    "        for i in range(N):\n",
    "            sum = 0\n",
    "            for j in range(L):\n",
    "                k = j+i*L\n",
    "                sum += data[k][l]\n",
    "            ave[i][l] = sum/L       # r_i \n",
    "            av2[i][l] = (ave[i][l])**2 # (r_i)^2 \n",
    "    for l in range (K):\n",
    "        for i in range(N):\n",
    "            for j in range(i+1):\n",
    "                sum_prog[i][l] += ave[j][l] # SUM_{j=0,i} r_j\n",
    "                su2_prog[i][l] += av2[j][l] # SUM_{j=0,i} (r_j)^2\n",
    "            sum_prog[i][l]/=(i+1) # Cumulative average\n",
    "            su2_prog[i][l]/=(i+1) # Cumulative square average\n",
    "            err_prog[i][l] = error(sum_prog,su2_prog,i,l) # Statistical uncertainty\n",
    "        \n",
    "    mean = sum_prog[len(sum_prog)-1]\n",
    "    err = err_prog[len(err_prog)-1]\n",
    "        \n",
    "    #return x,sum_prog,err_prog\n",
    "    return mean,err  # x,sum_prog,err_prog#"
   ]
  },
  {
   "cell_type": "code",
   "execution_count": 986,
   "metadata": {},
   "outputs": [],
   "source": [
    "class Curve:\n",
    "   \"\"\"\n",
    "   Mother class of a curve.\n",
    "   Each derived class should implement the constructor and a method curve(date).\n",
    "   \"\"\"\n",
    "\n",
    "   def __init__(self, **kwargs):\n",
    "      \"\"\"Constructor\"\"\"\n",
    "      raise Exception('do not instantiate this class.')\n",
    "\n",
    "   def __call__(self, date): #return the value of the curve at a defined time \n",
    "      \"\"\"Value of the Curve at date.\"\"\"\n",
    "      return self.curve(date)\n",
    "\n",
    "\n",
    "class EquityForwardCurve(Curve):\n",
    "   \n",
    "    def __init__(self, spot=None, reference=None, discounting_curve=None,\n",
    "                repo_rates=None, repo_dates=None, dividend_rates=None, dividend_dates=None): #discounting_curve is a a DiscountingCurve type object\n",
    "        self.spot = spot\n",
    "        self.reference = reference\n",
    "        self.discounting_curve = discounting_curve\n",
    "        #self.repo_rates = interp1d(repo_dates, repo_rates)  #Linear interpolation inside the constructor since it is done only once\n",
    "        #self.dividend_rates = interp1d(dividend_dates, dividend_rates)\n",
    "        \n",
    "    def curve(self, date):\n",
    "        return self.spot*np.exp(self.discounting_curve(date)*date)#*np.exp(-(self.dividend_rates(date)+self.repo_rates(date))*date)\n",
    "        \n",
    "    \n",
    "\n",
    "\n",
    "class DiscountingCurve(Curve):\n",
    "\n",
    "    def __init__(self, reference=None, discounts=None, dates=None):\n",
    "       \n",
    "        self.reference = reference\n",
    "        self.discounts = interp1d(dates, discounts)\n",
    "        \n",
    "\n",
    "    def curve(self, date):\n",
    "        return self.discounts(date)\n",
    "\n",
    "\n",
    "class PricingModel:\n",
    "   \"\"\"Every Pricing model must be derived from this class.\"\"\"\n",
    "\n",
    "   def __init__(self, **kwargs):\n",
    "      \"\"\"Constructor\"\"\"\n",
    "      raise Exception('model not implemented.')\n",
    "\n",
    "   def simulate(self, fixings=None, Nsim=1, seed=14, **kwargs):\n",
    "      \"\"\"Simulate Spot at fixing dates.\"\"\"\n",
    "      raise Exception('simulate not implemented.')\n",
    "\n",
    "\n",
    "class Black(PricingModel):\n",
    "    \"\"\"Black model\"\"\"\n",
    "    \n",
    "    def __init__(self, volatility=None, forward_curve=None, fixings=None, **kwargs):\n",
    "        self.volatility = volatility\n",
    "        self.forward_curve = forward_curve(fixings)\n",
    "        self.fixings = fixings\n",
    "       \n",
    "    def setSeed(self, seed):\n",
    "        rnd.seed(seed)\n",
    "        \n",
    "    def simulate(self, Nsim,**kwargs): #simulation of Martingale\n",
    "        self.martingale = np.zeros((Nsim,len(self.fixings)))\n",
    "        for i in range (Nsim):\n",
    "            self.martingale[i] = np.exp(-0.5*(self.volatility**2)*self.fixings[:]+self.volatility*np.sqrt(self.fixings[:])*rnd.gauss(0,1))\n",
    "    \n",
    "    def Call_PayOff(self, strike): #Monte Carlo call\n",
    "        self.pay = self.martingale-strike/self.forward_curve\n",
    "        for i in range (len(self.fixings)):\n",
    "            for j in range (len(self.martingale)):\n",
    "                self.pay[j][i] = max(self.pay[j][i],0)\n",
    "        \n",
    "\n",
    "    def Closed_Form(self,strike):\n",
    "        d_1 = (np.log(self.forward_curve/strike)+0.5*self.fixings*(self.volatility)**2)/(self.volatility*np.sqrt(self.fixings))\n",
    "        d_2 = d_1 - self.volatility*np.sqrt(self.fixings)\n",
    "        self.closed_call = N(d_1) - (strike/self.forward_curve)*N(d_2)"
   ]
  },
  {
   "cell_type": "code",
   "execution_count": 1013,
   "metadata": {},
   "outputs": [],
   "source": [
    "r_dates = np.linspace(0,5,10)\n",
    "r = np.ones(10)*0.1\n",
    "discounting_curve = DiscountingCurve(None,r,r_dates)\n",
    " \n",
    "Spot = 100 \n",
    "forward = EquityForwardCurve(Spot,None,discounting_curve)\n",
    "\n",
    "Nsim = int(2e6)\n",
    "volatility = 0.25\n",
    "maturities = np.linspace(0.001,5,100)\n",
    "bs = Black(volatility,forward,maturities)\n",
    "bs.simulate(Nsim)\n",
    "strike = 100\n",
    "bs.Call_PayOff(strike)"
   ]
  },
  {
   "cell_type": "code",
   "execution_count": 1024,
   "metadata": {},
   "outputs": [],
   "source": [
    "mean, err = Monte_Carlo_Analisys(bs.pay,100)\n",
    "bs.Closed_Form(100)"
   ]
  },
  {
   "cell_type": "code",
   "execution_count": 1028,
   "metadata": {},
   "outputs": [
    {
     "data": {
      "text/plain": [
       "<matplotlib.legend.Legend at 0x7f78f85a4e10>"
      ]
     },
     "execution_count": 1028,
     "metadata": {},
     "output_type": "execute_result"
    },
    {
     "data": {
      "image/png": "[encoded data removed]",
      "text/plain": [
       "<Figure size 432x288 with 1 Axes>"
      ]
     },
     "metadata": {},
     "output_type": "display_data"
    }
   ],
   "source": [
    "plt.errorbar(maturities,mean,yerr=err,label = 'Monte Carlo')\n",
    "plt.plot(maturities,bs.closed_call,label='BS')\n",
    "plt.legend()\n",
    "plt.show()"
   ]
  },
  {
   "cell_type": "code",
   "execution_count": 1021,
   "metadata": {},
   "outputs": [
    {
     "data": {
      "text/plain": [
       "array([[0.00322546, 0.02539774, 0.03725487, ..., 0.43339012, 0.43623157,\n",
       "        0.43905785],\n",
       "       [0.00324124, 0.02552145, 0.03743445, ..., 0.43567212, 0.43853096,\n",
       "        0.4413746 ],\n",
       "       [0.00324192, 0.02552385, 0.0374363 , ..., 0.43556586, 0.43842382,\n",
       "        0.44126667],\n",
       "       ...,\n",
       "       [0.00320374, 0.02523029, 0.03700985, ..., 0.43094464, 0.43377027,\n",
       "        0.43658086],\n",
       "       [0.00320362, 0.0252293 , 0.03700838, ..., 0.43093503, 0.43376066,\n",
       "        0.43657124],\n",
       "       [0.00320412, 0.02523323, 0.0370141 , ..., 0.43099969, 0.4338259 ,\n",
       "        0.43663708]])"
      ]
     },
     "execution_count": 1021,
     "metadata": {},
     "output_type": "execute_result"
    }
   ],
   "source": [
    "mean"
   ]
  },
  {
   "cell_type": "code",
   "execution_count": 1022,
   "metadata": {},
   "outputs": [
    {
     "data": {
      "text/plain": [
       "array([0.003204  , 0.02523237, 0.03701298, 0.04667241, 0.05522509,\n",
       "       0.06306655, 0.07040007, 0.07734649, 0.08398455, 0.09036889,\n",
       "       0.0965393 , 0.10252577, 0.10835158, 0.11403523, 0.1195917 ,\n",
       "       0.12503332, 0.13037041, 0.13561165, 0.14076448, 0.14583531,\n",
       "       0.1508297 , 0.15575254, 0.16060812, 0.16540026, 0.17013236,\n",
       "       0.17480747, 0.17942834, 0.18399744, 0.18851704, 0.19298919,\n",
       "       0.19741577, 0.20179851, 0.20613899, 0.21043868, 0.21469893,\n",
       "       0.218921  , 0.22310606, 0.2272552 , 0.23136943, 0.23544971,\n",
       "       0.23949693, 0.24351193, 0.24749549, 0.25144836, 0.25537125,\n",
       "       0.2592648 , 0.26312965, 0.26696641, 0.27077562, 0.27455782,\n",
       "       0.27831354, 0.28204325, 0.28574742, 0.28942649, 0.2930809 ,\n",
       "       0.29671103, 0.30031729, 0.30390004, 0.30745964, 0.31099645,\n",
       "       0.31451078, 0.31800295, 0.32147328, 0.32492206, 0.32834957,\n",
       "       0.3317561 , 0.33514189, 0.33850722, 0.34185233, 0.34517746,\n",
       "       0.34848285, 0.35176872, 0.3550353 , 0.35828279, 0.3615114 ,\n",
       "       0.36472133, 0.36791279, 0.37108596, 0.37424102, 0.37737816,\n",
       "       0.38049755, 0.38359936, 0.38668377, 0.38975093, 0.39280101,\n",
       "       0.39583415, 0.39885052, 0.40185026, 0.40483352, 0.40780043,\n",
       "       0.41075115, 0.4136858 , 0.41660452, 0.41950744, 0.42239469,\n",
       "       0.4252664 , 0.42812268, 0.43096366, 0.43378947, 0.43660021])"
      ]
     },
     "execution_count": 1022,
     "metadata": {},
     "output_type": "execute_result"
    }
   ],
   "source": [
    "bs.closed_call"
   ]
  },
  {
   "cell_type": "code",
   "execution_count": 1017,
   "metadata": {},
   "outputs": [
    {
     "data": {
      "text/plain": [
       "<matplotlib.lines.Line2D at 0x7f78f86bb828>"
      ]
     },
     "execution_count": 1017,
     "metadata": {},
     "output_type": "execute_result"
    },
    {
     "data": {
      "image/png": "[encoded data removed]",
      "text/plain": [
       "<Figure size 432x288 with 1 Axes>"
      ]
     },
     "metadata": {},
     "output_type": "display_data"
    }
   ],
   "source": [
    "n = 99\n",
    "\n",
    "\n",
    "plt.errorbar(x,mean.T[n],yerr=err.T[n],label = 'Monte Carlo')\n",
    "plt.axhline(y=bs.closed_call[n], color = 'red',linestyle='-',label = 'BS')"
   ]
  },
  {
   "cell_type": "code",
   "execution_count": 961,
   "metadata": {},
   "outputs": [],
   "source": [
    "payoff = mean#*forward(maturities)*np.exp(-discounting_curve(maturities)*maturities)\n",
    "payoff_err = err#*forward(maturities)*np.exp(-discounting_curve(maturities)*maturities)"
   ]
  },
  {
   "cell_type": "code",
   "execution_count": null,
   "metadata": {},
   "outputs": [],
   "source": [
    "class EquityForwardCurve(Curve):\n",
    "   \n",
    "    def __init__(self, spot=None, reference=None, discounting_curve=None,\n",
    "                repo_rates=None, repo_dates=None, dividend_rates=None, dividend_dates=None): #discounting_curve is a a DiscountingCurve type object\n",
    "        \n",
    "        self.spot = spot\n",
    "        self.reference = reference\n",
    "        self.discounting_curve = discounting_curve\n",
    "        if (repo_rates is not None & dividend_rates is not None):\n",
    "            self.repo_rates = interp1d(repo_dates, repo_rates)  #Linear interpolation inside the constructor since it is done only once\n",
    "            self.dividend_rates = interp1d(dividend_dates, dividend_rates)\n",
    "        \n",
    "        \n",
    "        \n",
    "    def curve(self, date):\n",
    "        if (self.reporates is None & self.dividend_rates is None):\n",
    "            return self.spot*self.discounting_curve(date)\n",
    "        else:\n",
    "            return self.spot*self.discounting_curve(date)*np.exp(-(self.dividend_rates(date)+self.repo_rates(date))*date)\n",
    "        \n",
    "    \n",
    "\n"
   ]
  },
  {
   "cell_type": "code",
   "execution_count": 763,
   "metadata": {},
   "outputs": [
    {
     "data": {
      "text/plain": [
       "array([[0. , 1.3],\n",
       "       [1. , 2. ],\n",
       "       [2. , 3. ],\n",
       "       [3. , 4. ]])"
      ]
     },
     "execution_count": 763,
     "metadata": {},
     "output_type": "execute_result"
    }
   ],
   "source": [
    "n = 4\n",
    "m = 2\n",
    "#pay = np.zeros((n,m))\n",
    "martinga = np.array(([1,2.3],[3,4],[5,6],[7,8]))\n",
    "forward = np.array([1,2,3,4])\n",
    "#for i in range (n):\n",
    "   # for j in range (m):\n",
    "pay = (martinga.T-forward).T#max(self.martingale[:][i]-(strike/self.forward_curve[i]),0)\n",
    "pay"
   ]
  },
  {
   "cell_type": "code",
   "execution_count": 756,
   "metadata": {},
   "outputs": [],
   "source": [
    "n = 4\n",
    "m = 2\n",
    "pay = np.zeros((n,m))\n",
    "martinga = np.array(([1,2.3],[3,4],[5,6],[7,8]))\n",
    "forward = np.array([1,2,3,4])\n",
    "for i in range (n):\n",
    "    for j in range (m):\n",
    "        pay[i][j] = martinga[i][j]-forward[i]#max(self.martingale[:][i]-(strike/self.forward_curve[i]),0)\n"
   ]
  },
  {
   "cell_type": "code",
   "execution_count": 757,
   "metadata": {},
   "outputs": [
    {
     "data": {
      "text/plain": [
       "array([[0. , 1.3],\n",
       "       [1. , 2. ],\n",
       "       [2. , 3. ],\n",
       "       [3. , 4. ]])"
      ]
     },
     "execution_count": 757,
     "metadata": {},
     "output_type": "execute_result"
    }
   ],
   "source": [
    "pay"
   ]
  },
  {
   "cell_type": "code",
   "execution_count": 770,
   "metadata": {},
   "outputs": [],
   "source": [
    "max?"
   ]
  },
  {
   "cell_type": "code",
   "execution_count": null,
   "metadata": {},
   "outputs": [],
   "source": []
  }
 ],
 "metadata": {
  "kernelspec": {
   "display_name": "Python 3",
   "language": "python",
   "name": "python3"
  },
  "language_info": {
   "codemirror_mode": {
    "name": "ipython",
    "version": 3
   },
   "file_extension": ".py",
   "mimetype": "text/x-python",
   "name": "python",
   "nbconvert_exporter": "python",
   "pygments_lexer": "ipython3",
   "version": "3.6.5"
  }
 },
 "nbformat": 4,
 "nbformat_minor": 2
}
