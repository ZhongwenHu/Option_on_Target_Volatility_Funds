{
 "cells": [
  {
   "cell_type": "code",
   "execution_count": 1,
   "metadata": {},
   "outputs": [],
   "source": [
    "from pricing import EquityForwardCurve, DiscountingCurve, Black, ForwardVariance, Vanilla_PayOff\n",
    "import numpy as np\n",
    "import matplotlib.pyplot as plt\n",
    "from scipy import log, sqrt, exp\n",
    "from closedforms import European_closed_form\n",
    "from montecarlo import MC\n",
    "import lets_be_rational.LetsBeRational as lbr\n",
    "import openpyxl"
   ]
  },
  {
   "cell_type": "code",
   "execution_count": 2,
   "metadata": {},
   "outputs": [],
   "source": [
    "r = 1/100\n",
    "volatility = 20/100\n",
    "spot_price = 180\n",
    "number_dates = 10\n",
    "expiry = 10\n",
    "K =150"
   ]
  },
  {
   "cell_type": "code",
   "execution_count": 3,
   "metadata": {},
   "outputs": [],
   "source": [
    "T = np.array([1.,2.,3.])/12\n",
    "K = np.array([172,180])\n",
    "sigma = np.array(([21.2,20.5,19.4],[30,25,26]))\n",
    "sigma = sigma/100"
   ]
  },
  {
   "cell_type": "code",
   "execution_count": 4,
   "metadata": {},
   "outputs": [],
   "source": [
    "#the implied volatility data for NVIDIA as of 31 January 2014\n",
    "T = np.array([0.08,0.17,0.25,0.33,0.42,0.50,1.0,2.0,3.0])\n",
    "K = np.array([157,164,172,180])\n",
    "sigma = np.array(([32.2,29.3,29.1,29.5,29.7,29.8,29.9,30.6,30.62],[32,29.1,28.9,29.3,29.4,29.4,29.6,30.6,30.63],[33.6,29.3,29,29.3,29.3,29.3,29.3,30.6,30.59],[35,29.7,29.4,29.5,29.4,29.3,29.3,30.5,30.46]))\n",
    "sigma = sigma/100"
   ]
  },
  {
   "cell_type": "code",
   "execution_count": 5,
   "metadata": {},
   "outputs": [
    {
     "name": "stdout",
     "output_type": "stream",
     "text": [
      "[0.35       0.24026675 0.28752109 0.29810338 0.29030386 0.28769298\n",
      " 0.293      0.31654542 0.30379842]\n"
     ]
    }
   ],
   "source": [
    "vol = ForwardVariance(reference=0,maturities=T,strikes=K,spot_volatility=sigma,strike_interp=spot_price)"
   ]
  },
  {
   "cell_type": "code",
   "execution_count": 6,
   "metadata": {},
   "outputs": [
    {
     "data": {
      "text/plain": [
       "0.09229347999999997"
      ]
     },
     "execution_count": 6,
     "metadata": {},
     "output_type": "execute_result"
    }
   ],
   "source": [
    "vol(2)"
   ]
  },
  {
   "cell_type": "code",
   "execution_count": 7,
   "metadata": {},
   "outputs": [
    {
     "data": {
      "text/plain": [
       "array([ 0.10504298,  0.05489289, -0.12906279, -0.0039929 ,  0.04724858,\n",
       "       -0.06190539,  0.01829448,  0.00552211, -0.00296149, -0.01751823])"
      ]
     },
     "execution_count": 7,
     "metadata": {},
     "output_type": "execute_result"
    }
   ],
   "source": [
    "from scipy.integrate import quad\n",
    "i = 5\n",
    "np.random.seed(10)\n",
    "Z = np.random.normal(0,1,10)\n",
    "logmartingale = -0.5*quad(vol,T[i-1],T[i])[0]+sqrt(quad(vol,T[i-1],T[i])[0])*Z\n",
    "#logmartingale= -0.5*quad(vol,0,T[i])[0]+sqrt(quad(vol,0,T[i])[0])*Z  \n",
    "logmartingale"
   ]
  },
  {
   "cell_type": "code",
   "execution_count": 8,
   "metadata": {},
   "outputs": [
    {
     "data": {
      "text/plain": [
       "array([ 0.10691849,  0.05584329, -0.13150579, -0.00412875,  0.04805796,\n",
       "       -0.06310955,  0.01856976,  0.00556177, -0.00307832, -0.01790359])"
      ]
     },
     "execution_count": 8,
     "metadata": {},
     "output_type": "execute_result"
    }
   ],
   "source": [
    "np.random.seed(10)\n",
    "Z = np.random.normal(0,1,10)\n",
    "logmartingale = -0.5* (vol(T[i]))*(T[i]-T[i-1]) + sqrt((vol(T[i]))*(T[i]-T[i-1]))*Z\n",
    "logmartingale"
   ]
  },
  {
   "cell_type": "code",
   "execution_count": 9,
   "metadata": {},
   "outputs": [
    {
     "name": "stdout",
     "output_type": "stream",
     "text": [
      "[0.01 0.01 0.01 0.01 0.01 0.01 0.01 0.01 0.01 0.01]\n"
     ]
    },
    {
     "data": {
      "image/png": "[encoded data removed]",
      "text/plain": [
       "<matplotlib.figure.Figure at 0xe67f5057f0>"
      ]
     },
     "metadata": {},
     "output_type": "display_data"
    }
   ],
   "source": [
    "\"\"\"I want to create a discounting costant curve such that r = 1/100\"\"\"\n",
    "dates = np.linspace(0.001,expiry,number_dates)\n",
    "r = np.ones(number_dates)*r\n",
    "d = exp(-r*dates)\n",
    "D = DiscountingCurve(reference=0, discounts=d, dates=dates)\n",
    "x = np.linspace(0.006,6,100)\n",
    "plt.plot(x,D(x))\n",
    "plt.xlabel(\"dates\")\n",
    "plt.ylabel(\"Discount\")\n",
    "plt.show()"
   ]
  },
  {
   "cell_type": "code",
   "execution_count": 10,
   "metadata": {},
   "outputs": [
    {
     "data": {
      "image/png": "[encoded data removed]",
      "text/plain": [
       "<matplotlib.figure.Figure at 0xe67f7d4c88>"
      ]
     },
     "metadata": {},
     "output_type": "display_data"
    }
   ],
   "source": [
    "\"\"\"Create a Forward Curve with 0 repo_zero_rate\"\"\"\n",
    "F = EquityForwardCurve(reference=0,spot=spot_price,discounting_curve=D,repo_rates=[0,0],repo_dates=[0,expiry])\n",
    "plt.plot(x,F(x))\n",
    "plt.xlabel(\"dates\")\n",
    "plt.ylabel(\"Forward\")\n",
    "plt.show()"
   ]
  },
  {
   "cell_type": "markdown",
   "metadata": {},
   "source": [
    "### Generation of the implied volatility surface"
   ]
  },
  {
   "cell_type": "code",
   "execution_count": 11,
   "metadata": {},
   "outputs": [],
   "source": [
    "BS = Black(forward_curve=F,variance=vol)"
   ]
  },
  {
   "cell_type": "code",
   "execution_count": 12,
   "metadata": {},
   "outputs": [],
   "source": [
    "T = np.array([0.08,0.17,0.25,0.33,0.42,0.50,1.0,2.0,3.0])\n",
    "S_t = BS.simulate(Nsim=1e6,fixings=T)\n",
    "kind = 1"
   ]
  },
  {
   "cell_type": "code",
   "execution_count": 13,
   "metadata": {},
   "outputs": [],
   "source": [
    "X_t = S_t/F(T)\n",
    "pay = Vanilla_PayOff(St=X_t, strike=spot_price/F(T), typo=kind)\n",
    "result,err = MC(pay)"
   ]
  },
  {
   "cell_type": "code",
   "execution_count": 14,
   "metadata": {},
   "outputs": [
    {
     "data": {
      "text/plain": [
       "0.29362001948548927"
      ]
     },
     "execution_count": 14,
     "metadata": {},
     "output_type": "execute_result"
    }
   ],
   "source": [
    "E = np.mean(X_t,axis=0)\n",
    "n = 3\n",
    "i = n-1\n",
    "lbr.implied_volatility_from_a_transformed_rational_guess(result[i],E[i],spot_price/F(T[i]),T[i],kind)# , sigma.T[1][3]"
   ]
  },
  {
   "cell_type": "code",
   "execution_count": 15,
   "metadata": {},
   "outputs": [],
   "source": [
    "imp_volatility = np.zeros(len(T))\n",
    "imp_volatility_plus = np.zeros(len(T))\n",
    "imp_volatility_minus = np.zeros(len(T))\n",
    "for i in range (len(T)):\n",
    "    imp_volatility[i] = lbr.implied_volatility_from_a_transformed_rational_guess(result[i],E[i],spot_price/F(T[i]),T[i],kind)\n",
    "    imp_volatility_minus[i] = lbr.implied_volatility_from_a_transformed_rational_guess(result[i]-err[i],E[i],spot_price/F(T[i]),T[i],kind)\n",
    "    imp_volatility_plus[i] = lbr.implied_volatility_from_a_transformed_rational_guess(result[i]+err[i],E[i],spot_price/F(T[i]),T[i],kind)"
   ]
  },
  {
   "cell_type": "code",
   "execution_count": 16,
   "metadata": {},
   "outputs": [],
   "source": [
    "y_lower = np.zeros(len(T))\n",
    "y_upper =np.zeros(len(T))\n",
    "for i in range(len(T)):\n",
    "    if(imp_volatility_minus[i]<imp_volatility_plus[i]):\n",
    "        y_lower[i]= abs(imp_volatility[i]-imp_volatility_minus[i])\n",
    "        y_upper[i]= abs(imp_volatility_plus[i]-imp_volatility[i])\n",
    "    elif(imp_volatility_minus[i]>imp_volatility_plus[i]):\n",
    "        y_lower[i][j] = abs(imp_volatility[i][j]-imp_volatility_plus[i])\n",
    "        y_upper[i][j] = abs(imp_volatility_minus[i]-imp_volatility[i])"
   ]
  },
  {
   "cell_type": "code",
   "execution_count": 17,
   "metadata": {},
   "outputs": [
    {
     "data": {
      "image/png": "[encoded data removed]",
      "text/plain": [
       "<matplotlib.figure.Figure at 0x516003b7b8>"
      ]
     },
     "metadata": {},
     "output_type": "display_data"
    }
   ],
   "source": [
    "#plt.errorbar(T,imp_volatility,yerr=[2*y_lower,2*y_upper], fmt = \"o\", label = \"Monte Carlo\")\n",
    "plt.figure(figsize=(7,5))\n",
    "plt.scatter(T,sigma[len(sigma)-1],color=\"Red\")\n",
    "plt.title(\"Market Data\")\n",
    "plt.xlabel(\"Maturity\")\n",
    "plt.ylabel(\"IV\")\n",
    "plt.savefig(\"market_data.pdf\")\n",
    "#plt.legend()\n",
    "plt.show()"
   ]
  },
  {
   "cell_type": "code",
   "execution_count": 18,
   "metadata": {},
   "outputs": [
    {
     "data": {
      "image/png": "[encoded data removed]",
      "text/plain": [
       "<matplotlib.figure.Figure at 0x5160063eb8>"
      ]
     },
     "metadata": {},
     "output_type": "display_data"
    }
   ],
   "source": [
    "plt.figure(figsize=(7,5))\n",
    "plt.errorbar(T,abs(imp_volatility-sigma[len(sigma)-1]),yerr=[2*y_lower,2*y_upper], fmt = \"o\", label = \"Monte Carlo\")\n",
    "plt.axhline(y=0, color = 'red',linestyle='--',label = 'Expected')\n",
    "plt.xlabel(\"Maturities\")\n",
    "plt.ylabel(\"IV: difference between MC and market data\")\n",
    "plt.legend()\n",
    "plt.savefig(\"Monte_carlo_sigma_time_dep.pdf\")\n",
    "plt.show()"
   ]
  },
  {
   "cell_type": "code",
   "execution_count": null,
   "metadata": {},
   "outputs": [],
   "source": []
  }
 ],
 "metadata": {
  "kernelspec": {
   "display_name": "Python 3",
   "language": "python",
   "name": "python3"
  },
  "language_info": {
   "codemirror_mode": {
    "name": "ipython",
    "version": 3
   },
   "file_extension": ".py",
   "mimetype": "text/x-python",
   "name": "python",
   "nbconvert_exporter": "python",
   "pygments_lexer": "ipython3",
   "version": "3.6.4"
  }
 },
 "nbformat": 4,
 "nbformat_minor": 2
}
