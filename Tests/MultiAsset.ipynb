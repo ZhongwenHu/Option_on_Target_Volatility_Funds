{
 "cells": [
  {
   "cell_type": "code",
   "execution_count": 14,
   "metadata": {},
   "outputs": [],
   "source": [
    "import numpy as np\n",
    "from pricing import EquityForwardCurve, DiscountingCurve, ForwardVariance, Black, Vanilla_PayOff\n",
    "from montecarlo import MC, MC_Analisys\n",
    "import lets_be_rational.LetsBeRational as lbr\n",
    "from scipy import exp, log, sqrt\n",
    "import matplotlib.pyplot as plt\n",
    "from closedforms import GM_Basket_closed_form,European_closed_form,vol_basket\n",
    "from scipy.stats.mstats import gmean\n",
    "from numpy.linalg import cholesky\n",
    "import scipy.stats as si  #for gaussian cdf\n",
    "import time, sys"
   ]
  },
  {
   "cell_type": "markdown",
   "metadata": {},
   "source": [
    "Generalizzazione a 4 Assets"
   ]
  },
  {
   "cell_type": "code",
   "execution_count": 15,
   "metadata": {},
   "outputs": [
    {
     "name": "stdout",
     "output_type": "stream",
     "text": [
      "ATM: 114.23503697769888\n"
     ]
    }
   ],
   "source": [
    "zero_rate = 1./100\n",
    "r = np.array([zero_rate,zero_rate,zero_rate,zero_rate])\n",
    "spot_price = np.array([110,120,97,133])\n",
    "number_dates = 10\n",
    "expiry = 10\n",
    "vol = np.array([20.,30.,25.,32.])/100\n",
    "corr = np.array(([1,0.15,0.10,0.20],[0.15,1.,-0.05,0.18],[0.1,-0.05,1.,0.13],[0.20,0.18,0.13,1]))\n",
    "N_equity = len(corr)\n",
    "ATM = gmean(spot_price)\n",
    "print(\"ATM:\", ATM)"
   ]
  },
  {
   "cell_type": "code",
   "execution_count": 16,
   "metadata": {},
   "outputs": [],
   "source": [
    "dates = np.linspace(0.001,expiry,number_dates)\n",
    "r_data = np.ones((number_dates,N_equity))*r\n",
    "d = exp(-r_data.T*dates).T"
   ]
  },
  {
   "cell_type": "code",
   "execution_count": 17,
   "metadata": {},
   "outputs": [
    {
     "name": "stdout",
     "output_type": "stream",
     "text": [
      "Forward zero rate:  [0.01 0.01 0.01 0.01 0.01 0.01 0.01 0.01 0.01 0.01]\n",
      "Forward zero rate:  [0.01 0.01 0.01 0.01 0.01 0.01 0.01 0.01 0.01 0.01]\n",
      "Forward zero rate:  [0.01 0.01 0.01 0.01 0.01 0.01 0.01 0.01 0.01 0.01]\n",
      "Forward zero rate:  [0.01 0.01 0.01 0.01 0.01 0.01 0.01 0.01 0.01 0.01]\n"
     ]
    },
    {
     "data": {
      "image/png": "[encoded data removed]",
      "text/plain": [
       "<matplotlib.figure.Figure at 0x397f109b0>"
      ]
     },
     "metadata": {},
     "output_type": "display_data"
    }
   ],
   "source": [
    "D = []  #list of all discounting curves\n",
    "for i in range(N_equity):\n",
    "    D.append(DiscountingCurve(reference=0, discounts=d.T[i], dates=dates))\n",
    "x = np.linspace(0.006,6,100)\n",
    "plt.plot(x,D[0](x),label=\"Asset 1\")\n",
    "plt.plot(x,D[1](x),label=\"Asset 2\")\n",
    "plt.legend()\n",
    "plt.xlabel(\"dates\")\n",
    "plt.ylabel(\"Discount\")\n",
    "plt.show()"
   ]
  },
  {
   "cell_type": "code",
   "execution_count": 18,
   "metadata": {},
   "outputs": [],
   "source": [
    "F = []   #list of all equity forward curves\n",
    "for i in range(N_equity):\n",
    "    F.append(EquityForwardCurve(reference=0,spot=spot_price[i],discounting_curve=D[i],repo_rates=[0,0],repo_dates=[0,expiry]))"
   ]
  },
  {
   "cell_type": "code",
   "execution_count": 19,
   "metadata": {},
   "outputs": [
    {
     "data": {
      "image/png": "[encoded data removed]",
      "text/plain": [
       "<matplotlib.figure.Figure at 0x399d36160>"
      ]
     },
     "metadata": {},
     "output_type": "display_data"
    }
   ],
   "source": [
    "for i in range(len(F)):\n",
    "    plt.plot(x,F[i](x),label=\"Asset \"+str(i+1))\n",
    "\n",
    "plt.legend()\n",
    "plt.xlabel(\"dates\")\n",
    "plt.ylabel(\"Forward\")\n",
    "plt.show()"
   ]
  },
  {
   "cell_type": "code",
   "execution_count": 20,
   "metadata": {},
   "outputs": [
    {
     "name": "stdout",
     "output_type": "stream",
     "text": [
      "Forward volatility:  [0.2 0.2 0.2 0.2 0.2 0.2 0.2 0.2 0.2]\n",
      "Forward volatility:  [0.3 0.3 0.3 0.3 0.3 0.3 0.3 0.3 0.3]\n",
      "Forward volatility:  [0.25 0.25 0.25 0.25 0.25 0.25 0.25 0.25 0.25]\n",
      "Forward volatility:  [0.32 0.32 0.32 0.32 0.32 0.32 0.32 0.32 0.32]\n"
     ]
    }
   ],
   "source": [
    "T1 = np.array([0.08,0.17,0.25,0.33,0.42,0.50,1.0,2.0,expiry])\n",
    "K1 = np.array([spot_price[0],164,172,180])\n",
    "\n",
    "sigma1 = np.array(([vol[0],vol[0],vol[0],vol[0],vol[0],vol[0],vol[0],vol[0],vol[0]],[32,29.1,28.9,29.3,29.4,29.4,29.6,30.6,30.63],[33.6,29.3,29,29.3,29.3,29.3,29.3,30.6,30.59],[35,29.7,29.4,29.5,29.4,29.3,29.3,30.5,30.46]))\n",
    "sigma1 = sigma1\n",
    "\n",
    "T2 = np.array([0.08,0.17,0.25,0.33,0.42,0.50,1.0,2.0,expiry])\n",
    "K2 = np.array([spot_price[1],164,172,180])\n",
    "sigma2 = np.array(([vol[1],vol[1],vol[1],vol[1],vol[1],vol[1],vol[1],vol[1],vol[1]],[32,29.1,28.9,29.3,29.4,29.4,29.6,30.6,30.63],[33.6,29.3,29,29.3,29.3,29.3,29.3,30.6,30.59],[35,29.7,29.4,29.5,29.4,29.3,29.3,30.5,30.46]))\n",
    "sigma2 = sigma2\n",
    "\n",
    "T3 = np.array([0.08,0.17,0.25,0.33,0.42,0.50,1.0,2.0,expiry])\n",
    "K3 = np.array([spot_price[2],164,172,180])\n",
    "sigma3 = np.array(([vol[2],vol[2],vol[2],vol[2],vol[2],vol[2],vol[2],vol[2],vol[2]],[32,29.1,28.9,29.3,29.4,29.4,29.6,30.6,30.63],[33.6,29.3,29,29.3,29.3,29.3,29.3,30.6,30.59],[35,29.7,29.4,29.5,29.4,29.3,29.3,30.5,30.46]))\n",
    "\n",
    "\n",
    "T4 = np.array([0.08,0.17,0.25,0.33,0.42,0.50,1.0,2.0,expiry])\n",
    "K4 = np.array([spot_price[3],164,172,180])\n",
    "sigma4 = np.array(([vol[3],vol[3],vol[3],vol[3],vol[3],vol[3],vol[3],vol[3],vol[3]],[32,29.1,28.9,29.3,29.4,29.4,29.6,30.6,30.63],[33.6,29.3,29,29.3,29.3,29.3,29.3,30.6,30.59],[35,29.7,29.4,29.5,29.4,29.3,29.3,30.5,30.46]))\n",
    "\n",
    "V = []  #list of variances\n",
    "\n",
    "V.append(ForwardVariance(reference=0,maturities=T1,strikes=K1,spot_volatility=sigma1,strike_interp=spot_price[0]))\n",
    "V.append(ForwardVariance(reference=0,maturities=T2,strikes=K2,spot_volatility=sigma2,strike_interp=spot_price[1]))\n",
    "V.append(ForwardVariance(reference=0,maturities=T3,strikes=K3,spot_volatility=sigma3,strike_interp=spot_price[2]))\n",
    "V.append(ForwardVariance(reference=0,maturities=T4,strikes=K4,spot_volatility=sigma4,strike_interp=spot_price[3]))"
   ]
  },
  {
   "cell_type": "code",
   "execution_count": 30,
   "metadata": {},
   "outputs": [
    {
     "name": "stdout",
     "output_type": "stream",
     "text": [
      "Multi Asset Simulation\n"
     ]
    }
   ],
   "source": [
    "model = Black(forward_curve=F, variance=V)\n",
    "maturities = np.arange(1,31)*0.15\n",
    "\n",
    "S_t = model.simulate(Nsim=5e5,corr=corr,Ndim = N_equity, seed=10,fixings=maturities)\n",
    "G_mean = gmean(S_t, axis=2)"
   ]
  },
  {
   "cell_type": "markdown",
   "metadata": {},
   "source": [
    "Preparation of the Basket Forward Curve"
   ]
  },
  {
   "cell_type": "code",
   "execution_count": 31,
   "metadata": {},
   "outputs": [
    {
     "name": "stdout",
     "output_type": "stream",
     "text": [
      "Volatility of the basket:  0.1573928206748961\n"
     ]
    }
   ],
   "source": [
    "S = np.identity(N_equity)*vol\n",
    "S = np.dot(np.dot(S,corr),S)\n",
    "F_basket = 1\n",
    "sigma_basket = vol_basket(vol,corr)\n",
    "print(\"Volatility of the basket: \",sigma_basket)\n",
    "for i in range (N_equity):\n",
    "    F_basket = F_basket*F[i](maturities)*exp((-0.5*V[i](maturities))*maturities)\n",
    "    \n",
    "F_basket = F_basket**(1/N_equity)\n",
    "F_basket = F_basket*exp(0.5*(sigma_basket**2)*maturities)   #forward curve of the Basket"
   ]
  },
  {
   "cell_type": "code",
   "execution_count": 33,
   "metadata": {},
   "outputs": [],
   "source": [
    "time\n",
    "X_t = G_mean/F_curve\n",
    "K = ATM\n",
    "imp_volatility = np.zeros(len(maturities))\n",
    "imp_volatility_plus =  np.zeros(len(maturities))\n",
    "imp_volatility_minus =  np.zeros(len(maturities))\n",
    "\n",
    "kind = 1\n",
    "for j in range(len(maturities)):\n",
    "    option = Vanilla_PayOff(St=X_t, strike=K/F_basket,typo=kind)\n",
    "    result, err_result = MC(option)\n",
    "    imp_volatility[j] = lbr.implied_volatility_from_a_transformed_rational_guess(result[j],1,K/F_basket[j],maturities[j],kind)\n",
    "    imp_volatility_plus[j] = lbr.implied_volatility_from_a_transformed_rational_guess(result[j]+err_result[j],1,K/F_basket[j],maturities[j],kind)\n",
    "    imp_volatility_minus[j] = lbr.implied_volatility_from_a_transformed_rational_guess(result[j]-err_result[j],1,K/F_basket[j],maturities[j],kind)\n",
    "        "
   ]
  },
  {
   "cell_type": "code",
   "execution_count": 34,
   "metadata": {},
   "outputs": [],
   "source": [
    "y_lower = np.zeros(len(maturities))\n",
    "y_upper = np.zeros(len(maturities))\n",
    "for j in range(len(maturities)):\n",
    "    if(imp_volatility_minus[j]<imp_volatility_plus[j]):\n",
    "        y_lower[j] = abs(imp_volatility[j]-imp_volatility_minus[j])\n",
    "        y_upper[j] = abs(imp_volatility_plus[j]-imp_volatility[j])\n",
    "    elif(imp_volatility_minus[j]>imp_volatility_plus[j]):\n",
    "        y_lower[j] = abs(imp_volatility[j]-imp_volatility_plus[j])\n",
    "        y_upper[j] = abs(imp_volatility_minus[j]-imp_volatility[j])"
   ]
  },
  {
   "cell_type": "code",
   "execution_count": 35,
   "metadata": {},
   "outputs": [
    {
     "data": {
      "image/png": "[encoded data removed]",
      "text/plain": [
       "<matplotlib.figure.Figure at 0x397f05e48>"
      ]
     },
     "metadata": {},
     "output_type": "display_data"
    }
   ],
   "source": [
    "\"\"\"Fixed Strike\"\"\"  #ATM = 5\n",
    "c=2\n",
    "err_lower = 2*y_lower\n",
    "err_upper = 2*y_upper\n",
    "plt.errorbar(maturities,imp_volatility,yerr=[err_lower,err_upper],fmt=\"o\",color = \"red\",label=\"Monte Carlo\")\n",
    "plt.axhline(y=sigma_basket, color = 'black',alpha = 0.5,linestyle='--',label = 'B&S volatility')\n",
    "plt.xlabel(\"Maturity\")\n",
    "plt.ylabel(\"Implied volatility\")\n",
    "plt.legend()\n",
    "#plt.savefig(\"Graphs/implied_vol_logmoney\"+str(round(logmoneyness[num[i]],c))+\".pdf\")\n",
    "plt.show()"
   ]
  },
  {
   "cell_type": "code",
   "execution_count": null,
   "metadata": {},
   "outputs": [],
   "source": []
  }
 ],
 "metadata": {
  "kernelspec": {
   "display_name": "Python 3",
   "language": "python",
   "name": "python3"
  },
  "language_info": {
   "codemirror_mode": {
    "name": "ipython",
    "version": 3
   },
   "file_extension": ".py",
   "mimetype": "text/x-python",
   "name": "python",
   "nbconvert_exporter": "python",
   "pygments_lexer": "ipython3",
   "version": "3.6.4"
  }
 },
 "nbformat": 4,
 "nbformat_minor": 2
}
