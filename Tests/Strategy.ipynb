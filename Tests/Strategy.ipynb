{
 "cells": [
  {
   "cell_type": "code",
   "execution_count": 1,
   "metadata": {},
   "outputs": [],
   "source": [
    "import numpy as np\n",
    "import matplotlib.pyplot as plt\n",
    "from pricing import EquityForwardCurve, ForwardVariance, DiscountingCurve,piecewise_function\n",
    "from scipy import exp, sqrt, log, heaviside\n",
    "from targetvol import optimal_strategy"
   ]
  },
  {
   "cell_type": "markdown",
   "metadata": {},
   "source": [
    "### Two equities"
   ]
  },
  {
   "cell_type": "markdown",
   "metadata": {},
   "source": [
    "#### market data"
   ]
  },
  {
   "cell_type": "code",
   "execution_count": 2,
   "metadata": {},
   "outputs": [],
   "source": [
    "N_equity = 2                                #number of equities\n",
    "T_max = 10\n",
    "t = 0.                                      #pricing date\n",
    "spot_price = np.array([110,120])            #spot price of the two assets\n",
    "corr = np.array(([1.,0.15],[0.15,1.]))        #correlation matrix\n",
    "\n",
    "\"\"\"Market Discount factors\"\"\"\n",
    "r_t = np.array([1.,0.9,1.2])/100            \n",
    "T_discounts = np.array([0.1,1.,T_max])      #data observation of the market discounts factor\n",
    "market_discounts = exp(-r_t*T_discounts)       #market discounts factor\n",
    "\n",
    "\"\"\"Market repo rates\"\"\"  #https://tradingeconomics.com/united-states/repo-rate\n",
    "T_repo1 = np.array([1.2,3.,5.3,T_max])       #data observation of the market repo rates for equity 1\n",
    "repo_rate1 = np.array([5.875,5.50,2.,2.3])/100  #market repo rates for equity 1\n",
    "\n",
    "T_repo2 = np.array([2.,3.,4.,T_max])\n",
    "repo_rate2 = np.array([2.,3.,3.034,2.99])/100\n",
    "\n",
    "for i in range(N_equity):                   #dimensional check between time and market data\n",
    "    a = globals()[\"repo_rate\" + str(i+1)]\n",
    "    b = globals()[\"T_repo\" + str(i+1)]\n",
    "    if(a.shape!=b.shape):\n",
    "        raise Exception(\"WARNING: Different dimension between data and value\")\n",
    "        \n",
    "\"\"\"Spot Volatilities\"\"\"\n",
    "sigma1 = np.array([32.2,29.3,29.1,29.5,29.7,29.8,29.9,30.6,30.62])/100\n",
    "T_sigma1 = np.array([0.08,0.17,0.25,0.33,0.42,0.5,1.,2.,T_max])\n",
    "K1 = np.array([spot_price[0],200])\n",
    "spot_vola1 = np.array((sigma1,sigma1))                                      #market implied volatility matrix\n",
    "\n",
    "sigma2 = np.array([35.,31.,31.,31.4,31.3,30.7,29.2,28.9,28.88])/100\n",
    "T_sigma2 = np.array([0.08,0.17,0.25,0.33,0.42,0.5,1.,2.,T_max])\n",
    "K2 = np.array([spot_price[1],200])\n",
    "spot_vola2 = np.array((sigma2,sigma2))      \n",
    "\n",
    "for i in range(N_equity):                   #dimensional check between time and market data\n",
    "    a = globals()[\"sigma\" + str(i+1)]\n",
    "    b = globals()[\"T_sigma\" + str(i+1)]\n",
    "    if(a.shape!=b.shape):\n",
    "        raise Exception(\"WARNING: Different dimension between data and value\")"
   ]
  },
  {
   "cell_type": "markdown",
   "metadata": {},
   "source": [
    "#### Loading Discouting curve, Forward curve and forward variance matrix"
   ]
  },
  {
   "cell_type": "code",
   "execution_count": 3,
   "metadata": {},
   "outputs": [
    {
     "name": "stdout",
     "output_type": "stream",
     "text": [
      "Forward zero rate:  [0.01       0.00888889 0.01233333]\n",
      "Forward volatility:  [0.322      0.26456694 0.28670368 0.30716445 0.30422086 0.30319589\n",
      " 0.29999667 0.31284341 0.30624998]\n",
      "Forward volatility:  [0.35       0.26950572 0.31       0.326184   0.30930567 0.27334776\n",
      " 0.27618653 0.28596853 0.28874998]\n"
     ]
    }
   ],
   "source": [
    "D = DiscountingCurve(reference=t, discounts=market_discounts,dates=T_discounts)\n",
    "F = np.array([])\n",
    "V = np.array([])\n",
    "for i in range(N_equity):\n",
    "    q = globals()[\"repo_rate\" + str(i+1)]\n",
    "    T_q = globals()[\"T_repo\" + str(i+1)]\n",
    "    s_vola = globals()[\"spot_vola\" + str(i+1)]\n",
    "    T_vola = globals()[\"T_sigma\" + str(i+1)]\n",
    "    K = globals()[\"K\" + str(i+1)]\n",
    "    F = np.append(F,EquityForwardCurve(reference=t,spot=spot_price[i],discounting_curve=D,repo_dates=T_q,repo_rates=q))\n",
    "    V = np.append(V,ForwardVariance(reference=t,spot_volatility=s_vola,strikes=K,maturities=T_vola,strike_interp=spot_price[i]))"
   ]
  },
  {
   "cell_type": "code",
   "execution_count": 4,
   "metadata": {
    "scrolled": true
   },
   "outputs": [
    {
     "name": "stdout",
     "output_type": "stream",
     "text": [
      "Strategy time grid:  [ 0.08  0.17  0.25  0.33  0.42  0.5   1.    1.2   2.    3.    4.    5.3\n",
      " 10.  ]\n",
      "[0.77203721 0.79808043 0.57516338 ... 0.81054361 0.77903941 0.42671362]\n",
      "[0.30724052 0.45662158 0.55538837 ... 0.37060564 0.54610212 0.55103752]\n",
      "[0.57755723 0.48812415 0.43032008 ... 0.39396298 0.25349612 0.61491864]\n",
      "[0.54305937 0.52024358 0.27833275 ... 0.29689867 0.44452286 0.62360027]\n",
      "[0.38019963 0.63490994 0.62778936 ... 0.59793868 0.58170008 0.58288025]\n",
      "[0.62320097 0.50899122 0.64978998 ... 0.63678546 0.64991565 0.64265454]\n",
      "[0.50802694 0.55513938 0.54430418 ... 0.54907776 0.58102614 0.55548746]\n",
      "[0.3435592  0.54176341 0.44680187 ... 0.53403882 0.25228291 0.50497219]\n",
      "[0.61195525 0.61166538 0.59152945 ... 0.59249396 0.50356288 0.60794173]\n",
      "[0.31333531 0.37588651 0.33142461 ... 0.36123591 0.37376844 0.3587764 ]\n",
      "[0.37119513 0.3349937  0.2385961  ... 0.36843    0.32931242 0.32702252]\n",
      "[0.38180204 0.36319015 0.29410354 ... 0.35017841 0.32037082 0.33931493]\n",
      "[nan nan nan ... nan nan nan]\n"
     ]
    },
    {
     "name": "stderr",
     "output_type": "stream",
     "text": [
      "/home/ste/Desktop/Strategy/targetvol.py:33: RuntimeWarning: divide by zero encountered in true_divide\n",
      "  f = np.dot(alpha,mu[i,:])/np.linalg.norm(np.dot(alpha,nu[:,:,i]),axis=1)  #score function vector\n",
      "/home/ste/Desktop/Strategy/targetvol.py:33: RuntimeWarning: invalid value encountered in true_divide\n",
      "  f = np.dot(alpha,mu[i,:])/np.linalg.norm(np.dot(alpha,nu[:,:,i]),axis=1)  #score function vector\n"
     ]
    }
   ],
   "source": [
    "tau, alpha = optimal_strategy(F,V,corr,1e6)"
   ]
  },
  {
   "cell_type": "code",
   "execution_count": null,
   "metadata": {},
   "outputs": [],
   "source": []
  }
 ],
 "metadata": {
  "kernelspec": {
   "display_name": "Python 3",
   "language": "python",
   "name": "python3"
  },
  "language_info": {
   "codemirror_mode": {
    "name": "ipython",
    "version": 3
   },
   "file_extension": ".py",
   "mimetype": "text/x-python",
   "name": "python",
   "nbconvert_exporter": "python",
   "pygments_lexer": "ipython3",
   "version": "3.6.5"
  }
 },
 "nbformat": 4,
 "nbformat_minor": 2
}
