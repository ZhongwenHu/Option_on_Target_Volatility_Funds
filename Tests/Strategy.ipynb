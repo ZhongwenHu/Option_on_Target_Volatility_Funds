{
 "cells": [
  {
   "cell_type": "code",
   "execution_count": 1,
   "metadata": {},
   "outputs": [],
   "source": [
    "import numpy as np\n",
    "import matplotlib.pyplot as plt\n",
    "from pricing import EquityForwardCurve, ForwardVariance, DiscountingCurve,piecewise_function,Vanilla_PayOff,PricingModel\n",
    "from scipy import exp, sqrt, log, heaviside\n",
    "from montecarlo import MC_Analisys,MC\n",
    "from targetvol import time_grid_union, Drift, CholeskyTDependent, Strategy,TVSForwardCurve ,TargetVolatilityStrategy,TargetVolatilityEuler"
   ]
  },
  {
   "cell_type": "markdown",
   "metadata": {},
   "source": [
    "### Two equities"
   ]
  },
  {
   "cell_type": "markdown",
   "metadata": {},
   "source": [
    "#### market data"
   ]
  },
  {
   "cell_type": "code",
   "execution_count": 2,
   "metadata": {},
   "outputs": [],
   "source": [
    "N_equity = 2                                #number of equities\n",
    "T_max = 10\n",
    "t = 0.                                      #pricing date\n",
    "spot_price = np.array([110,120])            #spot price of the two assets\n",
    "corr = np.array(([1.,0.15],[0.15,1.]))        #correlation matrix\n",
    "\n",
    "\"\"\"Market Discount factors\"\"\"\n",
    "r_t = np.array([1.,0.9,1.2])/100            \n",
    "T_discounts = np.array([0.1,1.,T_max])      #data observation of the market discounts factor\n",
    "market_discounts = exp(-r_t*T_discounts)       #market discounts factor\n",
    "\n",
    "\"\"\"Market repo rates\"\"\"  #https://tradingeconomics.com/united-states/repo-rate\n",
    "T_repo1 = np.array([1.2,3.,5.3,T_max])       #data observation of the market repo rates for equity 1\n",
    "repo_rate1 = np.array([5.875,5.50,2.,2.3])/100  #market repo rates for equity 1\n",
    "#repo_rate1 = np.array([10,10,10,10])/100\n",
    "repo_rate1 = np.array([2,2,2,2])/100\n",
    "\n",
    "T_repo2 = np.array([2.,3.,4.,T_max])\n",
    "#repo_rate2 = np.array([2.,3.,3.034,2.99])/100\n",
    "repo_rate2 = np.array([2,2,2,2])/100\n",
    "\n",
    "for i in range(N_equity):                   #dimensional check between time and market data\n",
    "    a = globals()[\"repo_rate\" + str(i+1)]\n",
    "    b = globals()[\"T_repo\" + str(i+1)]\n",
    "    if(a.shape!=b.shape):\n",
    "        raise Exception(\"WARNING: Different dimension between data and value for repo rates of asset \"+str(i+1))\n",
    "        \n",
    "\"\"\"Spot Volatilities\"\"\"\n",
    "sigma1 = np.array([25,25,25,25,25,25,25,25,25])/100\n",
    "#sigma1 = np.array([32.2,29.3,29.1,29.5,29.7,29.8,29.9,30.6,30.62])/100\n",
    "T_sigma1 = np.array([0.08,0.17,0.25,0.33,0.42,0.5,1.,2.,T_max])\n",
    "K1 = np.array([spot_price[0],200])\n",
    "spot_vola1 = np.array((sigma1,sigma1))                                      #market implied volatility matrix\n",
    "\n",
    "sigma2 = np.array([25,25,25,25,25,25,25,25,25])/100\n",
    "#sigma2 = np.array([35.,31.,31.,31.4,31.3,30.7,29.2,28.9,28.88])/100\n",
    "T_sigma2 = np.array([0.08,0.17,0.27,0.37,0.44,0.5,1.,2.,T_max])\n",
    "K2 = np.array([spot_price[1],200])\n",
    "spot_vola2 = np.array((sigma2,sigma2))      \n",
    "\n",
    "for i in range(N_equity):                   #dimensional check between time and market data\n",
    "    a = globals()[\"sigma\" + str(i+1)]\n",
    "    b = globals()[\"T_sigma\" + str(i+1)]\n",
    "    if(a.shape!=b.shape):\n",
    "        raise Exception(\"WARNING: Different dimension between data and value for volatility of asset \"+str(i+1))"
   ]
  },
  {
   "cell_type": "markdown",
   "metadata": {},
   "source": [
    "#### Loading Discouting curve, Forward curve and forward variance matrix"
   ]
  },
  {
   "cell_type": "code",
   "execution_count": 3,
   "metadata": {},
   "outputs": [
    {
     "name": "stdout",
     "output_type": "stream",
     "text": [
      "Forward zero rate:  [0.01       0.00888889 0.01233333]\n",
      "Forward volatility:  [0.25 0.25 0.25 0.25 0.25 0.25 0.25 0.25 0.25]\n",
      "Forward volatility:  [0.25 0.25 0.25 0.25 0.25 0.25 0.25 0.25 0.25]\n"
     ]
    }
   ],
   "source": [
    "D = DiscountingCurve(reference=t, discounts=market_discounts,dates=T_discounts)\n",
    "F = np.array([])\n",
    "V = np.array([])\n",
    "for i in range(N_equity):\n",
    "    q = globals()[\"repo_rate\" + str(i+1)]\n",
    "    T_q = globals()[\"T_repo\" + str(i+1)]\n",
    "    s_vola = globals()[\"spot_vola\" + str(i+1)]\n",
    "    T_vola = globals()[\"T_sigma\" + str(i+1)]\n",
    "    K = globals()[\"K\" + str(i+1)]\n",
    "    F = np.append(F,EquityForwardCurve(reference=t,spot=spot_price[i],discounting_curve=D,repo_dates=T_q,repo_rates=q))\n",
    "    V = np.append(V,ForwardVariance(reference=t,spot_volatility=s_vola,strikes=K,maturities=T_vola,strike_interp=spot_price[i]))"
   ]
  },
  {
   "cell_type": "code",
   "execution_count": 4,
   "metadata": {},
   "outputs": [
    {
     "name": "stdout",
     "output_type": "stream",
     "text": [
      "Drift time grid: [ 1.2  2.   3.   4.   5.3 10. ]\n",
      "Drift values: [[0.02 0.02]\n",
      " [0.02 0.02]\n",
      " [0.02 0.02]\n",
      " [0.02 0.02]\n",
      " [0.02 0.02]\n",
      " [0.02 0.02]]\n",
      "Cholesky covariance-variance time grid: [ 0.08  0.17  0.25  0.27  0.33  0.37  0.42  0.44  0.5   1.    2.   10.  ]\n",
      "Cholesky covariance-variance matrix values: [[[0.25      0.25      0.25      0.25      0.25      0.25      0.25\n",
      "   0.25      0.25      0.25      0.25      0.25     ]\n",
      "  [0.        0.        0.        0.        0.        0.        0.\n",
      "   0.        0.        0.        0.        0.       ]]\n",
      "\n",
      " [[0.0375    0.0375    0.0375    0.0375    0.0375    0.0375    0.0375\n",
      "   0.0375    0.0375    0.0375    0.0375    0.0375   ]\n",
      "  [0.2471715 0.2471715 0.2471715 0.2471715 0.2471715 0.2471715 0.2471715\n",
      "   0.2471715 0.2471715 0.2471715 0.2471715 0.2471715]]]\n"
     ]
    }
   ],
   "source": [
    "mu = Drift(F)\n",
    "nu = CholeskyTDependent(V,corr)"
   ]
  },
  {
   "cell_type": "code",
   "execution_count": 5,
   "metadata": {},
   "outputs": [
    {
     "name": "stdout",
     "output_type": "stream",
     "text": [
      "Optimal strategy time grid : [ 0.08  0.17  0.25  0.27  0.33  0.37  0.42  0.44  0.5   1.    1.2   2.\n",
      "  3.    4.    5.3  10.  ]\n",
      "Optimal strategy :  [[9.23068930e-07 9.99999077e-01]\n",
      " [9.99997919e-01 2.08134267e-06]\n",
      " [9.99998686e-01 1.31421633e-06]\n",
      " [9.99999517e-01 4.83061000e-07]\n",
      " [9.44493149e-07 9.99999056e-01]\n",
      " [1.07691048e-06 9.99998923e-01]\n",
      " [9.99999879e-01 1.21165217e-07]\n",
      " [4.78726963e-07 9.99999521e-01]\n",
      " [1.09896595e-06 9.99998901e-01]\n",
      " [6.54142659e-07 9.99999346e-01]\n",
      " [9.99999092e-01 9.08137490e-07]\n",
      " [9.99999061e-01 9.38875207e-07]\n",
      " [9.99999446e-01 5.54434495e-07]\n",
      " [9.99998697e-01 1.30287131e-06]\n",
      " [4.53404832e-06 9.99995466e-01]\n",
      " [9.99999726e-01 2.73639899e-07]]\n"
     ]
    }
   ],
   "source": [
    "alpha = Strategy()\n",
    "alpha.optimal(mu = mu, nu = nu,Ntrials = 1e6)"
   ]
  },
  {
   "cell_type": "code",
   "execution_count": 6,
   "metadata": {},
   "outputs": [],
   "source": [
    "I_0 = 1e5\n",
    "vol = 0.25\n",
    "n_dates = 40\n",
    "dates = np.linspace(0,9,n_dates)\n",
    "K = I_0\n",
    "simulations = 2e5"
   ]
  },
  {
   "cell_type": "code",
   "execution_count": 7,
   "metadata": {},
   "outputs": [],
   "source": [
    "TVSF = TVSForwardCurve(reference = 0., vola_target =vol, spot_price = I_0, strategy = alpha, mu = mu,nu = nu, discounting_curve = D, fees = np.array([0,0]), fees_dates = np.array([0,T_max]))"
   ]
  },
  {
   "cell_type": "code",
   "execution_count": 8,
   "metadata": {},
   "outputs": [],
   "source": [
    "TVS = TargetVolatilityStrategy(forward_curve=TVSF)"
   ]
  },
  {
   "cell_type": "code",
   "execution_count": 9,
   "metadata": {},
   "outputs": [],
   "source": [
    "I_t = TVS.simulate(fixings = dates,Nsim=simulations, seed=10)\n",
    "pay = Vanilla_PayOff(St=I_t,strike=K)*D(dates)\n",
    "x, result_optimal, result_err_optimal = MC_Analisys(pay,100)"
   ]
  },
  {
   "cell_type": "markdown",
   "metadata": {},
   "source": [
    "### Random Strategy"
   ]
  },
  {
   "cell_type": "code",
   "execution_count": 10,
   "metadata": {},
   "outputs": [
    {
     "name": "stdout",
     "output_type": "stream",
     "text": [
      "Random Strategy\n",
      "[[3.66662231e-01 6.33337769e-01]\n",
      " [3.78164892e-04 9.99621835e-01]\n",
      " [6.13798727e-01 3.86201273e-01]\n",
      " [3.50231061e-01 6.49768939e-01]\n",
      " [4.24085262e-01 5.75914738e-01]\n",
      " [3.79562835e-01 6.20437165e-01]\n",
      " [1.88858281e-01 8.11141719e-01]\n",
      " [3.92453864e-02 9.60754614e-01]\n",
      " [4.27568748e-01 5.72431252e-01]\n",
      " [4.14746642e-01 5.85253358e-01]\n",
      " [4.52652226e-01 5.47347774e-01]\n",
      " [3.11633286e-01 6.88366714e-01]\n",
      " [4.94856704e-01 5.05143296e-01]\n",
      " [6.85293315e-01 3.14706685e-01]\n",
      " [1.62056114e-01 8.37943886e-01]\n",
      " [1.89327153e-01 8.10672847e-01]]\n",
      "[1. 1. 1. 1. 1. 1. 1. 1. 1. 1. 1. 1. 1. 1. 1. 1.]\n"
     ]
    }
   ],
   "source": [
    "np.random.seed(1)\n",
    "strategy_times = alpha.T\n",
    "strategy = np.random.uniform(0,1,(len(strategy_times),N_equity ))\n",
    "norm = np.sum(strategy,axis=1)       #normalization\n",
    "strategy = (strategy.T/norm).T   \n",
    "print(\"Random Strategy\")\n",
    "print(strategy)\n",
    "print(np.sum(strategy,axis=1))\n",
    "bad_alpha = Strategy(strategy=strategy,dates=strategy_times)"
   ]
  },
  {
   "cell_type": "code",
   "execution_count": 11,
   "metadata": {},
   "outputs": [],
   "source": [
    "TVSF = TVSForwardCurve(reference = 0., vola_target =vol, spot_price = I_0, strategy = bad_alpha, mu = mu,nu = nu, discounting_curve = D, fees = np.array([0,0]), fees_dates = np.array([0,T_max]))\n",
    "TVS = TargetVolatilityStrategy(forward_curve=TVSF)\n",
    "I_t = TVS.simulate(fixings = dates,Nsim=simulations, seed=10)\n",
    "pay = Vanilla_PayOff(St=I_t,strike=K)*D(dates)\n",
    "x, result_bad, result_err_bad = MC_Analisys(pay,100)"
   ]
  },
  {
   "cell_type": "code",
   "execution_count": 12,
   "metadata": {},
   "outputs": [
    {
     "data": {
      "image/png": "[encoded data removed]",
      "text/plain": [
       "<matplotlib.figure.Figure at 0xf0bad45dd8>"
      ]
     },
     "metadata": {},
     "output_type": "display_data"
    }
   ],
   "source": [
    "n =n_dates-1\n",
    "plt.errorbar(x,result_optimal.T[n],yerr=result_err_optimal.T[n], label = \"Optimal Strategy\")\n",
    "plt.errorbar(x,result_bad.T[n],yerr=result_err_bad.T[n], label = \"Random Strategy\")\n",
    "plt.title(\"log(K/I) = \"+str(round(log(K/I_0),2))+\"; T = \"+str(round(dates[n],2)))\n",
    "plt.xlabel(\"#throws\")\n",
    "plt.ylabel(\"TVS Price\")\n",
    "plt.legend()\n",
    "plt.show()"
   ]
  },
  {
   "cell_type": "markdown",
   "metadata": {},
   "source": [
    "### Euler Method"
   ]
  },
  {
   "cell_type": "markdown",
   "metadata": {},
   "source": [
    "TVS_euler = TargetVolatilityEuler(reference = 0., vola_target =vol, spot_price = I_0, strategy = alpha, mu = mu,nu = nu, discounting_curve = D, fees = np.array([0,0]), fees_dates = np.array([0,T_max]))"
   ]
  },
  {
   "cell_type": "markdown",
   "metadata": {},
   "source": [
    "n_dates_euler = 400\n",
    "dates_euler = np.linspace(0,9,n_dates_euler)\n",
    "I_t = TVS_euler.simulate(fixings = dates_euler,Nsim=5e5, seed=10)\n",
    "pay_euler = Vanilla_PayOff(St=I_t,strike=K)*D(dates_euler)\n",
    "price_euler,err_euler = MC(pay_euler)\n",
    "x_euler, result_euler, result_err_euler = MC_Analisys(pay_euler,100)"
   ]
  },
  {
   "cell_type": "markdown",
   "metadata": {},
   "source": [
    "plt.errorbar(dates_euler,price_euler,yerr=err_euler,label = \"Euler method\")\n",
    "plt.errorbar(dates,price,yerr=err,label=\"GMB solution\")\n",
    "plt.legend()\n",
    "plt.xlabel(\"Maturity\")\n",
    "plt.ylabel(\"TVS price\")"
   ]
  },
  {
   "cell_type": "markdown",
   "metadata": {},
   "source": [
    "n = n_dates-1\n",
    "plt.errorbar(x,result.T[n],yerr=result_err.T[n],label=\"GBM\")\n",
    "plt.title(\"log(K/I) = \"+str(round(log(K/I_0),2))+\"; T = \"+str(round(dates[n],2)))\n",
    "n = n_dates_euler-1\n",
    "plt.errorbar(x_euler,result_euler.T[n],yerr=result_err_euler.T[n], label = \"Euler method\")\n",
    "plt.xlabel(\"#throws\")\n",
    "plt.legend()\n",
    "plt.ylabel(\"TVS Price\")\n",
    "plt.show()"
   ]
  }
 ],
 "metadata": {
  "kernelspec": {
   "display_name": "Python 3",
   "language": "python",
   "name": "python3"
  },
  "language_info": {
   "codemirror_mode": {
    "name": "ipython",
    "version": 3
   },
   "file_extension": ".py",
   "mimetype": "text/x-python",
   "name": "python",
   "nbconvert_exporter": "python",
   "pygments_lexer": "ipython3",
   "version": "3.6.4"
  }
 },
 "nbformat": 4,
 "nbformat_minor": 2
}
