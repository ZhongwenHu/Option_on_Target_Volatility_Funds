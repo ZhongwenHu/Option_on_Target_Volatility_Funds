{
 "cells": [
  {
   "cell_type": "code",
   "execution_count": 12,
   "metadata": {},
   "outputs": [],
   "source": [
    "import numpy as np\n",
    "import matplotlib.pyplot as plt\n",
    "from pricing import EquityForwardCurve, ForwardVariance, DiscountingCurve,piecewise_function,Vanilla_PayOff,PricingModel, piecewise_function\n",
    "from numpy import exp, sqrt, log\n",
    "from scipy.interpolate import interp1d\n",
    "import lets_be_rational.LetsBeRational as lbr\n",
    "import time, sys\n",
    "from montecarlo import MC_Analisys, MC\n",
    "from matplotlib import ticker\n",
    "from scipy.integrate import quad\n",
    "from targetvol import time_grid_union, Drift, CholeskyTDependent, Strategy,TVSForwardCurve ,TargetVolatilityStrategy,TargetVolatilityEuler,Markowitz_solution,loss_function\n",
    "from numpy.linalg import cholesky"
   ]
  },
  {
   "cell_type": "code",
   "execution_count": 2,
   "metadata": {},
   "outputs": [],
   "source": [
    "def piecewise(x,T,a):\n",
    "    mask = np.array([])\n",
    "    mask = np.append(mask,(x>=0) & (x<T[0]))\n",
    "    for i in range(1,len(T)):\n",
    "        mask= np.append(mask,(x>=T[i-1]) & (x<T[i]))\n",
    "    b = 0\n",
    "    for i in range(len(T)):\n",
    "        b = b+ a[i]*mask[i]\n",
    "    return b\n",
    "\n",
    "def step_function_integration1(f, time_grid, t_in, t_fin):\n",
    "    y = np.array([])\n",
    "    dt = np.array([])\n",
    "    if t_fin in time_grid:\n",
    "        time_grid = time_grid[np.where(time_grid<=t_fin)[0]]\n",
    "    if t_in in time_grid:\n",
    "        time_grid = time_grid[np.where(time_grid>=t_in)[0]]\n",
    "    if t_in not in time_grid:\n",
    "        time_grid = time_grid[np.where(time_grid>t_in)[0]]\n",
    "        time_grid = np.insert(time_grid,0,t_in)\n",
    "    if t_fin not in time_grid:\n",
    "        time_grid = time_grid[np.where(time_grid<t_fin)[0]]\n",
    "        time_grid = np.insert(time_grid,len(time_grid),t_fin)\n",
    "    for i in range(len(time_grid)-1):\n",
    "        y = np.append(y,f(time_grid[i]))\n",
    "    dt = np.diff(time_grid)\n",
    "    return np.sum(y*dt)"
   ]
  },
  {
   "cell_type": "markdown",
   "metadata": {},
   "source": [
    "#### Test with a simple step function"
   ]
  },
  {
   "cell_type": "code",
   "execution_count": 3,
   "metadata": {},
   "outputs": [
    {
     "data": {
      "image/png": "[encoded data removed]",
      "text/plain": [
       "<Figure size 432x288 with 1 Axes>"
      ]
     },
     "metadata": {
      "needs_background": "light"
     },
     "output_type": "display_data"
    },
    {
     "name": "stdout",
     "output_type": "stream",
     "text": [
      "CPU times: user 1.8 s, sys: 12.3 ms, total: 1.81 s\n",
      "Wall time: 1.8 s\n"
     ]
    }
   ],
   "source": [
    "%%time\n",
    "T = np.array([1,2,3,4.5,6])\n",
    "step = np.array([0.2,0.3,0.24,0.7,0.5])\n",
    "\n",
    "f = lambda x: piecewise(x,T,step)\n",
    "x = np.linspace(0.1,5,20)\n",
    "my = np.array([])\n",
    "theo = np.array([])\n",
    "for i in x:\n",
    "    my = np.append(my,step_function_integration1(f,T,0,i))\n",
    "    theo = np.append(theo, quad(f,0,i,limit=500)[0])\n",
    "    \n",
    "plt.scatter(x,abs(my-theo))\n",
    "plt.show()"
   ]
  },
  {
   "cell_type": "code",
   "execution_count": 4,
   "metadata": {},
   "outputs": [
    {
     "data": {
      "image/png": "[encoded data removed]",
      "text/plain": [
       "<Figure size 432x288 with 1 Axes>"
      ]
     },
     "metadata": {
      "needs_background": "light"
     },
     "output_type": "display_data"
    },
    {
     "name": "stdout",
     "output_type": "stream",
     "text": [
      "CPU times: user 2.13 s, sys: 82 ms, total: 2.21 s\n",
      "Wall time: 2.1 s\n"
     ]
    }
   ],
   "source": [
    "%%time\n",
    "T = np.array([1,2,3,4.5,6])\n",
    "step = np.array([0.2,0.3,0.24,0.7,0.5])\n",
    "\n",
    "f = lambda x: piecewise(x,T,step)\n",
    "x = np.linspace(0.1,5,20)\n",
    "my = np.array([])\n",
    "theo = np.array([])\n",
    "for i in x:\n",
    "    my = np.append(my,step_function_integration1(f,T,i,6))\n",
    "    theo = np.append(theo, quad(f,i,6,limit=500)[0])\n",
    "    \n",
    "plt.scatter(x,abs(my-theo))\n",
    "plt.show()"
   ]
  },
  {
   "cell_type": "markdown",
   "metadata": {},
   "source": [
    "#### Test with a complex step function"
   ]
  },
  {
   "cell_type": "code",
   "execution_count": 5,
   "metadata": {},
   "outputs": [
    {
     "name": "stdout",
     "output_type": "stream",
     "text": [
      "zero interest rate time grid [ 0.  3.  6. 10.]\n",
      "zero interest rate:  [0.01  0.01  0.019 0.012]\n",
      "Forward repo time grid [ 2.  6. 10.]\n",
      "Forward repo rate:  [0.0032  0.00365 0.003  ]\n",
      "Forward volatility time grid:  [ 2.  5. 10.]\n",
      "Forward volatility:  [0.2        0.20990474 0.23316089]\n",
      "Forward repo time grid [ 3.  6. 10.]\n",
      "Forward repo rate:  [0.0021  0.0019  0.00325]\n",
      "Forward volatility time grid:  [ 2.  6. 10.]\n",
      "Forward volatility:  [0.3        0.31488093 0.34909325]\n",
      "Forward repo time grid [ 2.  5. 10.]\n",
      "Forward repo rate:  [0.001      0.00216667 0.00228   ]\n",
      "Forward volatility time grid:  [ 3.  7. 10.]\n",
      "Forward volatility:  [0.25       0.21377558 0.19467922]\n",
      "Forward repo time grid [ 5. 10.]\n",
      "Forward repo rate:  [0.002  0.0028]\n",
      "Forward volatility time grid:  [ 2.  6. 10.]\n",
      "Forward volatility:  [0.15       0.16477257 0.1029563 ]\n"
     ]
    },
    {
     "name": "stderr",
     "output_type": "stream",
     "text": [
      "/home/ste/anaconda3/lib/python3.6/site-packages/ipykernel_launcher.py:10: DeprecationWarning: scipy.exp is deprecated and will be removed in SciPy 2.0.0, use numpy.exp instead\n",
      "  # Remove the CWD from sys.path while we load stuff.\n"
     ]
    }
   ],
   "source": [
    "N_equity = 4                                #number of equities\n",
    "T_max = 10\n",
    "t = 0.                                      #pricing date\n",
    "spot_price = np.array([110,120,97,133])            #spot price of the two assets\n",
    "corr = np.array(([1,0.15,0.10,0.20],[0.15,1.,-0.05,0.18],[0.1,-0.05,1.,0.13],[0.20,0.18,0.13,1]))       #correlation matrix\n",
    "minus = 1\n",
    "\"\"\"Market Discount factors\"\"\"\n",
    "r_t = np.array([1,1,1.9,1.2])/100            \n",
    "T_discounts = np.array([0.,3,6.,T_max])      #data observation of the market discounts factor\n",
    "market_discounts = exp(-r_t*T_discounts)       #market discounts factor\n",
    "\n",
    "\"\"\"Market repo rates\"\"\"  #https://tradingeconomics.com/united-states/repo-rate\n",
    "T_repo1 = np.array([2,6,T_max])       #data observation of the market repo rates for equity 1\n",
    "repo_rate1 = minus*np.array([0.32,0.35,0.33])/100  #market repo rates for equity 1\n",
    "\n",
    "\n",
    "T_repo2 = np.array([3.,6.,T_max])\n",
    "repo_rate2 = minus*np.array([0.21,0.2,0.25])/100\n",
    "\n",
    "T_repo3 = np.array([2.,5.,T_max])\n",
    "repo_rate3 = minus*np.array([0.1,0.17,0.199])/100\n",
    "\n",
    "T_repo4 = np.array([5,T_max])\n",
    "repo_rate4 = minus*np.array([0.2,0.24])/100\n",
    "\n",
    "\n",
    "for i in range(N_equity):                   #dimensional check between time and market data\n",
    "    a = globals()[\"repo_rate\" + str(i+1)]\n",
    "    b = globals()[\"T_repo\" + str(i+1)]\n",
    "    if(a.shape!=b.shape):\n",
    "        raise Exception(\"WARNING: Different dimension between data and value for repo rates of asset \"+str(i+1))\n",
    "        \n",
    "\"\"\"Spot Volatilities\"\"\"\n",
    "sigma1 = np.array([20,20.6,22])/100\n",
    "T_sigma1 = np.array([2,5.,T_max])\n",
    "K1 = np.array([spot_price[0],200])\n",
    "spot_vola1 = np.array((sigma1,sigma1))                                      #market implied volatility matrix\n",
    "\n",
    "sigma2 = np.array([30,31,32.62])/100\n",
    "T_sigma2 =  np.array([2.,6,T_max])\n",
    "K2 = np.array([spot_price[1],200])\n",
    "spot_vola2 = np.array((sigma2,sigma2))  \n",
    "\n",
    "sigma3 = np.array([25,23,22])/100\n",
    "T_sigma3 = np.array([3,7.,T_max])\n",
    "K3 = np.array([spot_price[2],200])\n",
    "spot_vola3 = np.array((sigma3,sigma3))  \n",
    "\n",
    "sigma4 = np.array([15,16,14])/100\n",
    "T_sigma4 =  np.array([2,6.,T_max])\n",
    "K4 = np.array([spot_price[3],200])\n",
    "spot_vola4 = np.array((sigma4,sigma4))  \n",
    "\n",
    "for i in range(N_equity):                   #dimensional check between time and market data\n",
    "    a = globals()[\"sigma\" + str(i+1)]\n",
    "    b = globals()[\"T_sigma\" + str(i+1)]\n",
    "    if(a.shape!=b.shape):\n",
    "        raise Exception(\"WARNING: Different dimension between data and value for volatility of asset \"+str(i+1))\n",
    "        \n",
    "D = DiscountingCurve(reference=t, discounts=market_discounts,dates=T_discounts)\n",
    "F = np.array([])\n",
    "V = np.array([])\n",
    "for i in range(N_equity):\n",
    "    q = globals()[\"repo_rate\" + str(i+1)]\n",
    "    T_q = globals()[\"T_repo\" + str(i+1)]\n",
    "    s_vola = globals()[\"spot_vola\" + str(i+1)]\n",
    "    T_vola = globals()[\"T_sigma\" + str(i+1)]\n",
    "    K = globals()[\"K\" + str(i+1)]\n",
    "    F = np.append(F,EquityForwardCurve(reference=t,spot=spot_price[i],discounting_curve=D,repo_dates=T_q,repo_rates=q))\n",
    "    V = np.append(V,ForwardVariance(reference=t,spot_volatility=s_vola,strikes=K,maturities=T_vola,strike_interp=spot_price[i]))"
   ]
  },
  {
   "cell_type": "code",
   "execution_count": 6,
   "metadata": {},
   "outputs": [
    {
     "name": "stdout",
     "output_type": "stream",
     "text": [
      "Drift time grid: [ 2.  3.  5.  6. 10.]\n",
      "Drift values: [[0.0032     0.0021     0.001      0.002     ]\n",
      " [0.00365    0.0021     0.00216667 0.002     ]\n",
      " [0.00365    0.0019     0.00216667 0.002     ]\n",
      " [0.00365    0.0019     0.00228    0.0028    ]\n",
      " [0.003      0.00325    0.00228    0.0028    ]]\n",
      "Cholesky covariance-variance time grid: [ 2.  3.  5.  6.  7. 10.]\n",
      "Cholesky covariance-variance matrix values: [[[ 0.2         0.20990474  0.20990474  0.23316089  0.23316089\n",
      "    0.23316089]\n",
      "  [ 0.          0.          0.          0.          0.\n",
      "    0.        ]\n",
      "  [ 0.          0.          0.          0.          0.\n",
      "    0.        ]\n",
      "  [ 0.          0.          0.          0.          0.\n",
      "    0.        ]]\n",
      "\n",
      " [[ 0.045       0.04723214  0.04723214  0.04723214  0.05236399\n",
      "    0.05236399]\n",
      "  [ 0.2966058   0.31131837  0.31131837  0.31131837  0.34514361\n",
      "    0.34514361]\n",
      "  [ 0.          0.          0.          0.          0.\n",
      "    0.        ]\n",
      "  [ 0.          0.          0.          0.          0.\n",
      "    0.        ]]\n",
      "\n",
      " [[ 0.025       0.025       0.02137756  0.02137756  0.02137756\n",
      "    0.01946792]\n",
      "  [-0.01643596 -0.01643596 -0.01405442 -0.01405442 -0.01405442\n",
      "   -0.01279896]\n",
      "  [ 0.24820326  0.24820326  0.21223919  0.21223919  0.21223919\n",
      "    0.19328007]\n",
      "  [ 0.          0.          0.          0.          0.\n",
      "    0.        ]]\n",
      "\n",
      " [[ 0.03        0.03295451  0.03295451  0.03295451  0.02059126\n",
      "    0.02059126]\n",
      "  [ 0.02275748  0.02499872  0.02499872  0.02499872  0.01562017\n",
      "    0.01562017]\n",
      "  [ 0.01812644  0.0199116   0.0199116   0.0199116   0.01244154\n",
      "    0.01244154]\n",
      "  [ 0.14406085  0.15824851  0.15824851  0.15824851  0.09887982\n",
      "    0.09887982]]]\n",
      "Markowitz strategy time grid : [ 2.  3.  5.  6.  7. 10.]\n",
      "Markowitz strategy :  [[-3.08538805 -0.59047171 -0.34529796 -4.11529557]\n",
      " [-3.01538728 -0.49479481 -1.23045703 -2.99646247]\n",
      " [-2.98585556 -0.38204391 -1.73561309 -2.87740983]\n",
      " [-2.06656518 -0.38461624 -1.64383151 -4.07422334]\n",
      " [-1.02632803 -0.61780168 -1.2809061  -8.51736088]\n",
      " [-1.01784899 -0.61269769 -1.54451194 -8.41249475]]\n",
      "Target volatility:  0.12962089551919187\n",
      "Spot price  460\n",
      "Dates  [2.  3.  5.  6.  7.  9.9]\n"
     ]
    },
    {
     "name": "stderr",
     "output_type": "stream",
     "text": [
      "/home/ste/anaconda3/lib/python3.6/site-packages/ipykernel_launcher.py:6: DeprecationWarning: scipy.sqrt is deprecated and will be removed in SciPy 2.0.0, use numpy.lib.scimath.sqrt instead\n",
      "  \n"
     ]
    }
   ],
   "source": [
    "mu = Drift(F)\n",
    "nu = CholeskyTDependent(V,corr)\n",
    "alpha = Strategy()\n",
    "alpha.Mark_strategy(mu=mu,nu=nu)\n",
    "I_0 = np.sum(spot_price)\n",
    "vol_target = 1/N_equity*sqrt(np.sum(nu(0.)@nu(0.).T))\n",
    "print(\"Target volatility: \",vol_target)\n",
    "dates = alpha.T\n",
    "dates = np.delete(dates,len(alpha.T)-1)\n",
    "dates = np.append(dates,9.9)\n",
    "K = I_0   #ATM pricing\n",
    "simulations = 1e6\n",
    "kind = 1 #call option\n",
    "print(\"Spot price \",I_0)\n",
    "print(\"Dates \",dates)"
   ]
  },
  {
   "cell_type": "code",
   "execution_count": 7,
   "metadata": {},
   "outputs": [
    {
     "data": {
      "image/png": "[encoded data removed]",
      "text/plain": [
       "<Figure size 432x288 with 1 Axes>"
      ]
     },
     "metadata": {
      "needs_background": "light"
     },
     "output_type": "display_data"
    }
   ],
   "source": [
    "l = lambda x: vol_target*((alpha(x)@mu(x))/np.linalg.norm(alpha(x)@nu(x)))\n",
    "\n",
    "y = np.linspace(0,9,200)\n",
    "f = np.array([])\n",
    "for i in y:\n",
    "    f = np.append(f,l(i))\n",
    "plt.plot(y,f)\n",
    "plt.show()"
   ]
  },
  {
   "cell_type": "code",
   "execution_count": 8,
   "metadata": {},
   "outputs": [
    {
     "name": "stdout",
     "output_type": "stream",
     "text": [
      "[ 2.  3.  5.  6.  7. 10.]\n",
      "my integration  -0.02876151794278406\n",
      "quad integration -0.02876151794278406\n",
      "difference  0.0\n",
      "CPU times: user 510 ms, sys: 33.8 ms, total: 543 ms\n",
      "Wall time: 492 ms\n"
     ]
    }
   ],
   "source": [
    "%%time\n",
    "print(alpha.T)\n",
    "a = 0\n",
    "b = 9.\n",
    "my = step_function_integration1(l,alpha.T,a,b)\n",
    "theo = quad(l,a,b, limit=500)[0]\n",
    "print(\"my integration \",my)\n",
    "print(\"quad integration\",theo)\n",
    "print(\"difference \",my - theo)"
   ]
  },
  {
   "cell_type": "code",
   "execution_count": 9,
   "metadata": {},
   "outputs": [
    {
     "name": "stdout",
     "output_type": "stream",
     "text": [
      "[0.1        0.56842105 1.03684211 1.50526316 1.97368421 2.44210526\n",
      " 2.91052632 3.37894737 3.84736842 4.31578947 4.78421053 5.25263158\n",
      " 5.72105263 6.18947368 6.65789474 7.12631579 7.59473684 8.06315789\n",
      " 8.53157895 9.        ]\n",
      "[0.00000000e+00 0.00000000e+00 0.00000000e+00 0.00000000e+00\n",
      " 0.00000000e+00 4.84637794e-10 1.18003335e-08 6.33153772e-11\n",
      " 3.39341965e-09 1.72476997e-09 1.94520089e-09 1.12621508e-09\n",
      " 4.11560218e-09 1.33711985e-09 1.50935215e-08 1.11997839e-09\n",
      " 7.88437454e-10 4.92251392e-10 2.42575029e-09 0.00000000e+00]\n"
     ]
    },
    {
     "data": {
      "image/png": "[encoded data removed]",
      "text/plain": [
       "<Figure size 432x288 with 1 Axes>"
      ]
     },
     "metadata": {
      "needs_background": "light"
     },
     "output_type": "display_data"
    },
    {
     "name": "stdout",
     "output_type": "stream",
     "text": [
      "CPU times: user 9.2 s, sys: 70.3 ms, total: 9.27 s\n",
      "Wall time: 9.19 s\n"
     ]
    }
   ],
   "source": [
    "%%time\n",
    "y = np.linspace(0.1,9.,20)\n",
    "print(y)\n",
    "my = np.array([])\n",
    "theo = np.array([])\n",
    "for i in y:\n",
    "    my = np.append(my,step_function_integration1(l,alpha.T,0,i))\n",
    "    theo = np.append(theo, quad(l,0,i,limit=500)[0])\n",
    "    \n",
    "plt.scatter(x,abs(my-theo))\n",
    "print(abs(my-theo))\n",
    "plt.show()"
   ]
  },
  {
   "cell_type": "code",
   "execution_count": 10,
   "metadata": {},
   "outputs": [
    {
     "data": {
      "text/plain": [
       "array([-0.00025521, -0.00145068, -0.00264615, -0.00384161, -0.00503708,\n",
       "       -0.00629072, -0.00754781, -0.0088263 , -0.01010983, -0.01139337,\n",
       "       -0.0126769 , -0.01403542, -0.015458  , -0.01708752, -0.01902172,\n",
       "       -0.02096027, -0.02291058, -0.02486089, -0.0268112 , -0.02876152])"
      ]
     },
     "execution_count": 10,
     "metadata": {},
     "output_type": "execute_result"
    }
   ],
   "source": [
    "my"
   ]
  },
  {
   "cell_type": "code",
   "execution_count": 11,
   "metadata": {},
   "outputs": [
    {
     "data": {
      "text/plain": [
       "array([-0.00025521, -0.00145068, -0.00264615, -0.00384161, -0.00503708,\n",
       "       -0.00629072, -0.00754783, -0.0088263 , -0.01010983, -0.01139337,\n",
       "       -0.0126769 , -0.01403542, -0.015458  , -0.01708752, -0.0190217 ,\n",
       "       -0.02096027, -0.02291058, -0.02486089, -0.0268112 , -0.02876152])"
      ]
     },
     "execution_count": 11,
     "metadata": {},
     "output_type": "execute_result"
    }
   ],
   "source": [
    "theo"
   ]
  },
  {
   "cell_type": "code",
   "execution_count": null,
   "metadata": {},
   "outputs": [],
   "source": []
  }
 ],
 "metadata": {
  "kernelspec": {
   "display_name": "Python 3",
   "language": "python",
   "name": "python3"
  },
  "language_info": {
   "codemirror_mode": {
    "name": "ipython",
    "version": 3
   },
   "file_extension": ".py",
   "mimetype": "text/x-python",
   "name": "python",
   "nbconvert_exporter": "python",
   "pygments_lexer": "ipython3",
   "version": "3.6.8"
  }
 },
 "nbformat": 4,
 "nbformat_minor": 2
}
