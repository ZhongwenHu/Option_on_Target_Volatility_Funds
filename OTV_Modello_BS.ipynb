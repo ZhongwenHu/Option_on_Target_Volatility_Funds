{
 "cells": [
  {
   "cell_type": "code",
   "execution_count": 153,
   "metadata": {},
   "outputs": [],
   "source": [
    "import numpy as np\n",
    "import matplotlib.pyplot as plt\n",
    "import random as rnd\n",
    "import pickle"
   ]
  },
  {
   "cell_type": "markdown",
   "metadata": {},
   "source": [
    "### Simulazione del prezzo dei singoli sottostanti del Basket secondo modello di BS"
   ]
  },
  {
   "cell_type": "markdown",
   "metadata": {},
   "source": [
    "Algoritmo per la simulazione di un $GBM(\\mu,\\Sigma)$ (con $\\Sigma$ matrice di covarianza) ai tempi $0=t_0<t_1<...<t_n$:\n",
    "$$ S_i(t_{k+1}) = S_i(t_k) \\exp\\left[\\left(\\mu_i-\\frac{1}{2}\\sigma_i^2\\right)\\left(t_{k+1}-t_k\\right)+\\sqrt{t_{k+1}-t_k}\\sum_{j=1}^d A_{ij}Z_{k+1,j}\\right]$$\n",
    "\n",
    "dove $k = 0,...,n-1$, $A$ matrice tale per cui $\\Sigma = A A^{T}$ (fattorizzazione di Cholesky), $Z_k = (Z_{k1},...,Z_{kd})\\sim N(0,I)$ e $Z_1,Z_2,...,Z_n$ sono indipendenti"
   ]
  },
  {
   "cell_type": "code",
   "execution_count": 18,
   "metadata": {},
   "outputs": [],
   "source": [
    "def Gauss_d_dim_Step(x):\n",
    "    for i in range (len(x)):\n",
    "        x[i] = rnd.gauss(0,1)\n",
    "    return x\n",
    "\n",
    "\n",
    "def GBM_d(drift,vol,s_i_t,step,a,dt):   #con s_i_t intendo la riga dei prezzi al tempo t dei vari sottostanti, dt è il passo temporale, a la matrice ottenuta dalla fattorizzazione di Cholesky, step il vettore degli incrementi gaussiani standard\n",
    "    x = (drift-0.5*vol)*dt+np.sqrt(dt)*np.sum(step*a,axis=1) #axis = 1 sommo su tutta la riga\n",
    "    s_i_t_new = s_i_t*np.exp(x)  #riga dei prezzi al tempo t+1\n",
    "    return s_i_t_new\n",
    "\n"
   ]
  },
  {
   "cell_type": "code",
   "execution_count": 245,
   "metadata": {},
   "outputs": [],
   "source": [
    "#Funzione analisi risultati simulazioni Monte Carlo\n",
    "def error(AV,AV2,n):  # Function for statistical uncertainty estimation\n",
    "    if n==0:\n",
    "        return 0\n",
    "    else:\n",
    "        return np.sqrt((AV2[n] - AV[n]**2)/n)\n",
    "\n",
    "def Data_Blocking_Analysis(data,N): #data=array dati N = number of block\n",
    "    M= len(data)              # Total number of throws\n",
    "    L=int(M/N)            # Number of throws in each block, please use for M a multiple of N\n",
    "    ave = np.zeros(N)\n",
    "    av2 = np.zeros(N)\n",
    "    sum_prog = np.zeros(N)\n",
    "    su2_prog = np.zeros(N)\n",
    "    err_prog = np.zeros(N)\n",
    "    x = np.arange(N)\n",
    "    x*=L\n",
    "    for i in range(N):\n",
    "        sum = 0\n",
    "        for j in range(L):\n",
    "            k = j+i*L\n",
    "            sum += data[k]\n",
    "        ave[i] = sum/L       # r_i \n",
    "        av2[i] = (ave[i])**2 # (r_i)^2 \n",
    "\n",
    "    for i in range(N):\n",
    "        for j in range(i+1):\n",
    "            sum_prog[i] += ave[j] # SUM_{j=0,i} r_j\n",
    "            su2_prog[i] += av2[j] # SUM_{j=0,i} (r_j)^2\n",
    "        sum_prog[i]/=(i+1) # Cumulative average\n",
    "        su2_prog[i]/=(i+1) # Cumulative square average\n",
    "        err_prog[i] = error(sum_prog,su2_prog,i) # Statistical uncertainty\n",
    "    \n",
    "    return x, sum_prog, err_prog  #number of throws, mean, error"
   ]
  },
  {
   "cell_type": "markdown",
   "metadata": {},
   "source": [
    "#### Calibrazione del Basket\n",
    "(i valori inseriti sono di prova, il modello verrà calibrato nella cella successiva leggendo da file)\n",
    "\n",
    "Struttura del codice:\n",
    "- $d$ è il numero dei sottostanti del basket\n",
    "- $T$ data di maturità\n",
    "- $S_t$ è la matrice dell'andamento dei singoli sottostanti ai vari tempi:$$S_t=\\begin{bmatrix}\n",
    "S_{t_0}^1 & S_{t_0}^2& ...& S_{t_0}^d \\\\\n",
    "S_{t_1}^1 & & &\\\\\n",
    "   . & & &\\\\\n",
    "   . & & &\\\\\n",
    "   .& & &\\\\\n",
    "   S_{t_T}^1 & & & S_{t_T}^d\\\\\n",
    "\\end{bmatrix}\n",
    "$$\n",
    "- Le singole date $t_i$ possono essere ricavate attraverso il numero della riga\n",
    "- La variabile vol indica il vettore delle volatilità dei singoli sottostanti:\n",
    "$$vol = \\sigma^2=\\begin{bmatrix}\n",
    "\\sigma_1^2  \\\\\n",
    "\\sigma_2^2\\\\\n",
    "   .\\\\\n",
    "   . \\\\\n",
    "   .\\\\\n",
    "   \\sigma_d^2\\\\\n",
    "\\end{bmatrix}\n",
    "$$\n",
    "- La matrice rho indica la matrice di correlazione:\n",
    " $$\\rho=\\begin{bmatrix}\n",
    "\\rho_{11} & \\rho_{12}& ...& \\rho_{1d} \\\\\n",
    "\\rho_{21} & & & \\\\\n",
    "   . & & &\\\\\n",
    "   . & & &\\\\\n",
    "   .& & &\\\\\n",
    "   \\rho_{d1} & & & \\rho_{dd}\\\\\n",
    "\\end{bmatrix}\n",
    "$$\n",
    "\n",
    "- La matrice $\\Sigma$ indica la matrice di covarianza: $\\Sigma_{ij} = \\sigma_i\\sigma_j \\rho_{ij}$ "
   ]
  },
  {
   "cell_type": "code",
   "execution_count": 19,
   "metadata": {},
   "outputs": [],
   "source": [
    "d = 2 #numero di sottostanti\n",
    "T = 365 #expiry (1 anno)\n",
    "dt = 1 #step temporali (daily)\n",
    "n = int(T/dt)\n",
    "r = 0.1 #interest rate\n",
    "div_rate = np.zeros(d)\n",
    "S_0 = np.zeros(d) #vettore dei prezzi iniziali\n",
    "S_t = np.zeros((n,d))  #matrice dei path dei sottostanti nel tempo\n",
    "vol = np.zeros(d)   #vettore delle volatilità\n",
    "rho = np.zeros((d,d))  #matrice di correlazione"
   ]
  },
  {
   "cell_type": "markdown",
   "metadata": {},
   "source": [
    "#### Lettura da file per la calibrazione"
   ]
  },
  {
   "cell_type": "code",
   "execution_count": 264,
   "metadata": {},
   "outputs": [],
   "source": [
    "#codice dove carico da file i dati \n",
    "#error = np.loadtxt('polo.txt',  usecols=(0,1,2),delimiter=' ', unpack='faulse')  #lettura da file\n",
    "#error= error.T  per mettere a posto la matrice"
   ]
  },
  {
   "cell_type": "markdown",
   "metadata": {},
   "source": [
    "#### Preparazione di alcune variabili utili alla simulazione\n",
    "Decomposizione di Cholesky della matrice di correlazione e inizializzazione degli spot price al tempo $t=0$\n",
    "\n",
    "La decomposizione di Cholesky prevede la fattorizzazione della matrice di covarianza in una matrice $A$ tale per cui $\\Sigma = A A^{T}$"
   ]
  },
  {
   "cell_type": "code",
   "execution_count": 21,
   "metadata": {},
   "outputs": [],
   "source": [
    "Z = np.zeros(d) #vettore variabili casuali indipendenti distribuite secondo gaussiana standard \n",
    "Vol = vol*np.identity(d)\n",
    "Sigma = np.array(([0.25,0],[0,0.01]))\n",
    "A = np.linalg.cholesky(Sigma) #cholesky factorization\n",
    "S_t[0][:] = S_0  #definisco nella matrice i spot price iniziali"
   ]
  },
  {
   "cell_type": "markdown",
   "metadata": {},
   "source": [
    "#### Simulazione di prova per un numero di sottostanti d=2 non correlati\n",
    "Parametri di prova:\n",
    "- prezzo degli asset a $t=0$: $S_1(0)=100$ e $S_2(0)=150$\n",
    "- maturity: $T=1$\n",
    "- tasso di interesse privo di rischio: $r=0.1$\n",
    "- passo di sampling $dt = 0.01$\n",
    "- Matrice di covarianza (sottostanti non correlati): $$\\Sigma=\\begin{bmatrix}\n",
    "0.25 & 0 \\\\\n",
    "0 & 0.13 \\\\\n",
    "\\end{bmatrix}\n",
    "$$"
   ]
  },
  {
   "cell_type": "code",
   "execution_count": 277,
   "metadata": {},
   "outputs": [],
   "source": [
    "d = 2\n",
    "T = 1\n",
    "dt = 0.01\n",
    "n = int(T/dt)+1\n",
    "r = 0.1 \n",
    "S_0 = np.array([100,100]) \n",
    "S_t = np.zeros((n,d)) \n",
    "vol = np.array([0.25,0.14]) \n",
    "rho = np.identity(d) \n",
    "Sigma = vol*rho\n",
    "#Sigma = np.array([[0.25,0.01],[0.01,0.13]])"
   ]
  },
  {
   "cell_type": "code",
   "execution_count": 278,
   "metadata": {},
   "outputs": [],
   "source": [
    "Z = np.zeros(d) \n",
    "A = np.linalg.cholesky(Sigma) \n",
    "S_t[0][:] = S_0 "
   ]
  },
  {
   "cell_type": "code",
   "execution_count": 279,
   "metadata": {},
   "outputs": [],
   "source": [
    "for i in range (1,n):\n",
    "    Z = Gauss_d_dim_Step(Z)\n",
    "    S_t[i][:] = GBM_d(r,vol,S_t[i-1][:],Z,A,dt)"
   ]
  },
  {
   "cell_type": "code",
   "execution_count": 280,
   "metadata": {},
   "outputs": [
    {
     "name": "stdout",
     "output_type": "stream",
     "text": [
      "\n"
     ]
    },
    {
     "data": {
      "image/png": "[encoded data removed]",
      "text/plain": [
       "<Figure size 432x288 with 1 Axes>"
      ]
     },
     "metadata": {},
     "output_type": "display_data"
    }
   ],
   "source": [
    "t = np.linspace(0,T,n)\n",
    "\n",
    "plt.plot(t,S_t.T[0], label = \"$\\sigma^2 = 0.25$\")\n",
    "plt.plot(t,S_t.T[1],label = \"$\\sigma^2= 0.13$\")\n",
    "plt.legend()\n",
    "print()"
   ]
  },
  {
   "cell_type": "markdown",
   "metadata": {},
   "source": [
    "#### Prova di pricing call europea\n",
    "Prova del calcolo di una call europea sul sottostante $S^1_t$con strike price $K = 100$ e expiry $T=1$"
   ]
  },
  {
   "cell_type": "code",
   "execution_count": 281,
   "metadata": {
    "scrolled": true
   },
   "outputs": [],
   "source": [
    "K = 100\n",
    "M = 100000 #numero di simulazioni MC\n",
    "S_t = np.zeros((n,d)) \n",
    "S_t[0][:] = S_0 \n",
    "Call = np.zeros(M)\n",
    "for j in range (M):\n",
    "    for i in range (1,n):\n",
    "        Z = Gauss_d_dim_Step(Z)\n",
    "        S_t[i][:] = GBM_d(r,vol,S_t[i-1][:],Z,A,dt)\n",
    "    Call[j] = max(S_t[len(S_t)-1][1]-K,0)\n",
    "    #np.savetxt(\"Path\"+str(j),S_t) per salvare su file\n"
   ]
  },
  {
   "cell_type": "code",
   "execution_count": 282,
   "metadata": {},
   "outputs": [
    {
     "name": "stdout",
     "output_type": "stream",
     "text": [
      " == Soluzione analitica da BLACK-SCHOLES ==\n",
      "call:  19.387906447150968\n"
     ]
    }
   ],
   "source": [
    "S0 = 100.\n",
    "K = 100.\n",
    "T = 1.\n",
    "r = 0.1\n",
    "vol = 0.14#0.25\n",
    "sigma = np.sqrt(vol)\n",
    "t=0\n",
    "\n",
    "def N(x):\n",
    "    return 0.5 * (1. + np.erf(x / np.sqrt(2.)))\n",
    "\n",
    "def black_scholes(S0, K, T, r, sigma):\n",
    "    d1 = 1./(sigma * np.sqrt(T)) * (np.log(S0 / K) + (r + (vol) / 2.) * T)\n",
    "    d2 = d1 - sigma * np.sqrt(T)\n",
    "    C = S0 * N(d1) - K * np.exp(-r * T) * N(d2)\n",
    "    return C\n",
    "\n",
    "if __name__ == \"__main__\":\n",
    "    call= black_scholes(S0, K, T, r, sigma)\n",
    "    print(\" == Soluzione analitica da BLACK-SCHOLES ==\")\n",
    "    print(\"call: \", call)\n",
    "    \n",
    "\n",
    "    "
   ]
  },
  {
   "cell_type": "code",
   "execution_count": 283,
   "metadata": {},
   "outputs": [
    {
     "data": {
      "image/png": "[encoded data removed]",
      "text/plain": [
       "<Figure size 432x288 with 1 Axes>"
      ]
     },
     "metadata": {},
     "output_type": "display_data"
    }
   ],
   "source": [
    "N = 100\n",
    "x,C,err = Data_Blocking_Analysis(Call*np.exp(-r*T),N)\n",
    "plt.axhline(y=call, color = 'red',linestyle='-',label = 'BS')\n",
    "plt.errorbar(x,C,yerr=err,label = 'Monte Carlo')\n",
    "plt.xlabel('#throws')\n",
    "plt.ylabel('C')\n",
    "plt.grid(True)\n",
    "plt.legend()\n",
    "plt.show()"
   ]
  },
  {
   "cell_type": "code",
   "execution_count": 196,
   "metadata": {},
   "outputs": [],
   "source": [
    "#error = np.loadtxt('polo.txt',  usecols=(0,1,2),delimiter=' ', unpack='faulse')  #lettura da file\n",
    "#error= error.T  per mettere a posto la matrice\n",
    "#np.savetxt(\"polo.txt\",S_t) scrivere su file"
   ]
  },
  {
   "cell_type": "code",
   "execution_count": null,
   "metadata": {},
   "outputs": [],
   "source": []
  }
 ],
 "metadata": {
  "kernelspec": {
   "display_name": "Python 3",
   "language": "python",
   "name": "python3"
  },
  "language_info": {
   "codemirror_mode": {
    "name": "ipython",
    "version": 3
   },
   "file_extension": ".py",
   "mimetype": "text/x-python",
   "name": "python",
   "nbconvert_exporter": "python",
   "pygments_lexer": "ipython3",
   "version": "3.6.5"
  }
 },
 "nbformat": 4,
 "nbformat_minor": 2
}
