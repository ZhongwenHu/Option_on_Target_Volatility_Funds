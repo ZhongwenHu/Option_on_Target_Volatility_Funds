{
 "cells": [
  {
   "cell_type": "code",
   "execution_count": 56,
   "metadata": {},
   "outputs": [],
   "source": [
    "import numpy as np\n",
    "import matplotlib as plt\n",
    "import random as rnd"
   ]
  },
  {
   "cell_type": "markdown",
   "metadata": {},
   "source": [
    "Calibrazione del Basket"
   ]
  },
  {
   "cell_type": "code",
   "execution_count": 146,
   "metadata": {},
   "outputs": [],
   "source": [
    "d = 1 #number of assets\n",
    "T = 365 #expiry (1 year)\n",
    "dt = 1 #time increments (daily)\n",
    "r = 0.1 #interest rate\n",
    "div_rate = np.zeros(d)\n",
    "S_0 = np.zeros(d) #vector of spot prices at t = 0\n",
    "S_t = np.zeros((T,d))  #matrix of the path of the d risky assets (different times values in row and different asset in colum)\n",
    "vol = np.zeros(d)   #vector of voaltility\n",
    "rho = np.zeros((d,d))  #correlation matrix"
   ]
  },
  {
   "cell_type": "markdown",
   "metadata": {},
   "source": [
    "Lettura da file per la calibrazione"
   ]
  },
  {
   "cell_type": "code",
   "execution_count": 147,
   "metadata": {},
   "outputs": [],
   "source": [
    "#codice dove carico da file i dati "
   ]
  },
  {
   "cell_type": "markdown",
   "metadata": {},
   "source": [
    "Variabili utili per la simulazione del moto browniano"
   ]
  },
  {
   "cell_type": "code",
   "execution_count": 148,
   "metadata": {},
   "outputs": [],
   "source": [
    "Z = np.zeros(d) #vettore variabili distribuite secondo gaussiana standard\n",
    "Vol = vol*np.identity(d)\n",
    "\n",
    "A = np.linalg.cholesky(Cov) #cholesky factorization\n",
    "S_t[0][:] = S_0  #definisco nella matrice i spot price iniziali"
   ]
  },
  {
   "cell_type": "code",
   "execution_count": 145,
   "metadata": {},
   "outputs": [],
   "source": [
    "def Gauss_d_dim_Step(x):\n",
    "    for i in range (len(x)):\n",
    "        x[i] = rnd.gauss(0,1)\n",
    "    return x\n",
    "\n",
    "\n",
    "def exp_GBM (drift,vol,s_i_t,step,a,dt):   #con s_i_t intendo la riga dei prezzi al tempo t dei vari assets, step è il passo temporale, a la matrice otte\n",
    "    x = (drift-0.5*vol)*dt+np.sqrt(dt)*np.sum(step*a,axis=1) #axis = 1 sommo su tutta la riga\n",
    "    s_i_t_new = s_i_t*np.exp(x)  #riga dei prezzi al tempo t+1\n",
    "    return s_i_t_new\n",
    "\n"
   ]
  },
  {
   "cell_type": "markdown",
   "metadata": {},
   "source": [
    "Inizio simulazione"
   ]
  },
  {
   "cell_type": "code",
   "execution_count": null,
   "metadata": {},
   "outputs": [],
   "source": []
  },
  {
   "cell_type": "code",
   "execution_count": null,
   "metadata": {},
   "outputs": [],
   "source": []
  }
 ],
 "metadata": {
  "kernelspec": {
   "display_name": "Python 3",
   "language": "python",
   "name": "python3"
  },
  "language_info": {
   "codemirror_mode": {
    "name": "ipython",
    "version": 3
   },
   "file_extension": ".py",
   "mimetype": "text/x-python",
   "name": "python",
   "nbconvert_exporter": "python",
   "pygments_lexer": "ipython3",
   "version": "3.6.5"
  }
 },
 "nbformat": 4,
 "nbformat_minor": 2
}
