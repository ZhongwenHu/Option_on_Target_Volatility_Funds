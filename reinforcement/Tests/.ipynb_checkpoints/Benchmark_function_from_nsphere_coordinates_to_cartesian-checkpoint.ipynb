{
 "cells": [
  {
   "cell_type": "code",
   "execution_count": 1,
   "metadata": {},
   "outputs": [],
   "source": [
    "import numpy as np\n",
    "from math import cos, sin\n",
    "import n_sphere"
   ]
  },
  {
   "cell_type": "markdown",
   "metadata": {},
   "source": [
    "#### Benchmark for function that takes n-spherical coordinates and converts them into cartesian"
   ]
  },
  {
   "cell_type": "code",
   "execution_count": 97,
   "metadata": {},
   "outputs": [],
   "source": [
    "def n_sphere_to_cartesian(radius, angles):\n",
    "    \"\"\"Function that takes n-spherical coordinates and convert into n-cartesian coordinates\n",
    "       angles: the n-2 values between [0,\\pi) and last one between [0,2\\pi)\n",
    "    \"\"\"\n",
    "    a = np.concatenate((np.array([2*np.pi]), angles))\n",
    "    si = np.sin(a)\n",
    "    si[0] = 1\n",
    "    si = np.cumprod(si)\n",
    "    co = np.cos(a)\n",
    "    co = np.roll(co, -1)\n",
    "    return si*co*radius"
   ]
  },
  {
   "cell_type": "code",
   "execution_count": 109,
   "metadata": {},
   "outputs": [
    {
     "name": "stdout",
     "output_type": "stream",
     "text": [
      "Iperspherical angles  [2.42317527 0.06519417 1.99066464 2.35243678 1.56610597 0.70621949\n",
      " 0.62223284 2.3892777  0.53127736 0.27752771 4.30624274]\n"
     ]
    }
   ],
   "source": [
    "radius = 1\n",
    "n = 10\n",
    "np.random.seed(10)\n",
    "angles = np.random.random_sample(n)*np.pi\n",
    "angles = np.append(angles,np.random.random_sample(1)*2*np.pi)\n",
    "print(\"Iperspherical angles \",angles)"
   ]
  },
  {
   "cell_type": "code",
   "execution_count": 110,
   "metadata": {},
   "outputs": [
    {
     "name": "stdout",
     "output_type": "stream",
     "text": [
      "Cartesian coordinate  [-7.52848338e-01  6.56795770e-01 -1.74796219e-02 -2.75829390e-02\n",
      "  1.30349385e-04  2.11437507e-02  1.46549616e-02 -7.67475017e-03\n",
      "  6.19292369e-03  3.49992330e-03 -3.93909086e-04 -9.15946033e-04]\n"
     ]
    }
   ],
   "source": [
    "x = n_sphere_to_cartesian(1,c)\n",
    "print(\"Cartesian coordinate \",x)"
   ]
  },
  {
   "cell_type": "code",
   "execution_count": 112,
   "metadata": {},
   "outputs": [
    {
     "name": "stdout",
     "output_type": "stream",
     "text": [
      "Check iperspherical angles  [2.423175 0.065194 1.990665 2.352437 1.566106 0.706219 0.622233 2.389278\n",
      " 0.531277 0.277528 4.306243]\n"
     ]
    }
   ],
   "source": [
    "check = n_sphere.convert_spherical(x)\n",
    "print(\"Check iperspherical angles \",check[1:])"
   ]
  },
  {
   "cell_type": "markdown",
   "metadata": {},
   "source": [
    "Speed Test"
   ]
  },
  {
   "cell_type": "code",
   "execution_count": 114,
   "metadata": {},
   "outputs": [
    {
     "name": "stdout",
     "output_type": "stream",
     "text": [
      "CPU times: user 531 ms, sys: 212 ms, total: 744 ms\n",
      "Wall time: 743 ms\n"
     ]
    },
    {
     "data": {
      "text/plain": [
       "array([-0.75284834,  0.65679577, -0.01747962, ...,  0.        ,\n",
       "        0.        ,  0.        ])"
      ]
     },
     "execution_count": 114,
     "metadata": {},
     "output_type": "execute_result"
    }
   ],
   "source": [
    "%%time\n",
    "n = 10000000 \n",
    "np.random.seed(10)\n",
    "c = np.random.random_sample(n)*np.pi\n",
    "n_sphere_to_cartesian(1,c)"
   ]
  },
  {
   "cell_type": "markdown",
   "metadata": {},
   "source": [
    "#### Benchmark fort the normalization function"
   ]
  },
  {
   "cell_type": "code",
   "execution_count": 41,
   "metadata": {},
   "outputs": [],
   "source": [
    "def sign_renormalization(vec, sum_plus, sum_minus):\n",
    "    \"\"\"renormalize positive and negative elements of an array separately if necessary such \n",
    "    that sum of positive is equal to sum_plus and the abs sum of negative is equal to sum_neg\"\"\"\n",
    "    pos = vec>=0\n",
    "    neg = (1-vec)>0\n",
    "    p_s = np.sum(vec[pos])\n",
    "    n_s = abs(np.sum(vec[neg]))\n",
    "    if p_s > sum_plus:\n",
    "        vec[pos] = (vec[pos]/p_s)*sum_plus\n",
    "    if n_s > sum_minus:\n",
    "        vec[neg] = (vec[neg]/n_s)*sum_minus\n",
    "    p_s = np.sum(vec[pos])\n",
    "    n_s = abs(np.sum(vec[neg]))\n",
    "    return vec"
   ]
  },
  {
   "cell_type": "code",
   "execution_count": 56,
   "metadata": {},
   "outputs": [],
   "source": [
    "np.random.seed(1)\n",
    "for i in range(1000):\n",
    "    a = np.random.uniform(-1,1,int(1e4))\n",
    "    c = sign_renormalization(a,10,20)\n",
    "    pos_sum = np.sum(c[c>=0])\n",
    "    neg_sum = abs(np.sum(c[c<0]))\n",
    "    if pos_sum>10.1 and neg_sum>20.1:\n",
    "        print(\"Failure\")\n",
    "        print(pos_sum, neg_sum)"
   ]
  }
 ],
 "metadata": {
  "kernelspec": {
   "display_name": "Python 3",
   "language": "python",
   "name": "python3"
  },
  "language_info": {
   "codemirror_mode": {
    "name": "ipython",
    "version": 3
   },
   "file_extension": ".py",
   "mimetype": "text/x-python",
   "name": "python",
   "nbconvert_exporter": "python",
   "pygments_lexer": "ipython3",
   "version": "3.6.8"
  }
 },
 "nbformat": 4,
 "nbformat_minor": 4
}
