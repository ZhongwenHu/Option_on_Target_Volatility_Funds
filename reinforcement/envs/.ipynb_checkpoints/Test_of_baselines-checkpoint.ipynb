{
 "cells": [
  {
   "cell_type": "code",
   "execution_count": 1,
   "metadata": {},
   "outputs": [],
   "source": [
    "from gym.utils import seeding\n",
    "import numpy as np\n",
    "from numpy import array, exp, log, sqrt\n",
    "from pricing import EquityForwardCurve, ForwardVariance, DiscountingCurve, Black\n",
    "from closedforms import European_option_closed_form"
   ]
  },
  {
   "cell_type": "markdown",
   "metadata": {},
   "source": [
    "Seeding di gym genera un oggetto seed e un oggetto random della libreria numpy"
   ]
  },
  {
   "cell_type": "code",
   "execution_count": 2,
   "metadata": {},
   "outputs": [
    {
     "name": "stdout",
     "output_type": "stream",
     "text": [
      "zero interest rate time grid [ 0.  5. 10.]\n",
      "zero interest rate:  [0.01 0.01 0.01]\n",
      "Forward repo time grid [ 0. 10.]\n",
      "Forward repo rate:  [0. 0.]\n",
      "Forward volatility time grid:  [ 0.1 10. ]\n",
      "Forward volatility:  [0.2 0.2]\n"
     ]
    }
   ],
   "source": [
    "sigma = 20/100\n",
    "r = 1/100\n",
    "T = 1\n",
    "s0 = 100\n",
    "asset_history = []\n",
    "T_max = 10\n",
    "zero_interest_rate = array([r,r,r])\n",
    "zero_interest_rate_dates = array([0.0,5,T_max])\n",
    "d = exp(-zero_interest_rate*zero_interest_rate_dates)\n",
    "D = DiscountingCurve(reference = 0, discounts= d, dates=zero_interest_rate_dates)\n",
    "F = EquityForwardCurve(reference=0, discounting_curve=D, spot=s0,repo_dates=array([0.,T_max]), repo_rates=array([0.,0.]))\n",
    "K_spot_vola = array([s0,200])\n",
    "spot_vol = array(([sigma,sigma],[0.3,0.3]))\n",
    "spot_vol_dates = array([0.1,T_max])\n",
    "V = ForwardVariance(reference=0,maturities=spot_vol_dates,strikes=K_spot_vola,spot_volatility=spot_vol,strike_interp=s0)\n",
    "BS = Black(variance=V, forward_curve=F)"
   ]
  },
  {
   "cell_type": "code",
   "execution_count": 3,
   "metadata": {},
   "outputs": [],
   "source": [
    "seed = 12\n",
    "\n",
    "np_random, seed = seeding.np_random(seed)"
   ]
  },
  {
   "cell_type": "code",
   "execution_count": 4,
   "metadata": {},
   "outputs": [
    {
     "data": {
      "text/plain": [
       "array([ 1.38503828, -2.12704259, -2.04412697, -0.67407396,  0.63734453,\n",
       "        1.58553551,  2.64476297,  0.34536369, -1.3928017 , -0.13044506])"
      ]
     },
     "execution_count": 4,
     "metadata": {},
     "output_type": "execute_result"
    }
   ],
   "source": [
    "np_random.randn(10)"
   ]
  },
  {
   "cell_type": "code",
   "execution_count": 5,
   "metadata": {},
   "outputs": [
    {
     "data": {
      "text/plain": [
       "array([-0.75110831,  0.00827842,  0.19474169,  0.48525935,  0.77957517,\n",
       "        1.46494579, -0.38315389,  0.15233679, -0.6391829 , -2.53083804])"
      ]
     },
     "execution_count": 5,
     "metadata": {},
     "output_type": "execute_result"
    }
   ],
   "source": [
    "np_random.randn(10)"
   ]
  },
  {
   "cell_type": "code",
   "execution_count": 6,
   "metadata": {},
   "outputs": [],
   "source": [
    "S = BS.simulate(fixings=array([2]), random_gen=np_random)"
   ]
  },
  {
   "cell_type": "code",
   "execution_count": 7,
   "metadata": {},
   "outputs": [
    {
     "data": {
      "text/plain": [
       "73.80202426618462"
      ]
     },
     "execution_count": 7,
     "metadata": {},
     "output_type": "execute_result"
    }
   ],
   "source": [
    "S[0][0]"
   ]
  },
  {
   "cell_type": "code",
   "execution_count": 8,
   "metadata": {},
   "outputs": [
    {
     "data": {
      "text/plain": [
       "143714.0"
      ]
     },
     "execution_count": 8,
     "metadata": {},
     "output_type": "execute_result"
    }
   ],
   "source": [
    "1.43e+5+714"
   ]
  },
  {
   "cell_type": "code",
   "execution_count": 9,
   "metadata": {},
   "outputs": [],
   "source": [
    "def black_evolve(s0, sigma, t1, t2, r, x):\n",
    "    dt = t2 - t1\n",
    "    fwd = s0 * exp(r * dt)\n",
    "    s = sigma * sqrt(dt)\n",
    "    s_t = fwd * exp(- 0.5 * s * s - s * x)\n",
    "    return s_t"
   ]
  },
  {
   "cell_type": "code",
   "execution_count": 10,
   "metadata": {},
   "outputs": [
    {
     "data": {
      "text/plain": [
       "array([[82.28225256]])"
      ]
     },
     "execution_count": 10,
     "metadata": {},
     "output_type": "execute_result"
    }
   ],
   "source": [
    "seed = 3\n",
    "\n",
    "np_random, seed = seeding.np_random(seed)\n",
    "S = BS.simulate(fixings=array([T]), random_gen=np_random)\n",
    "S"
   ]
  },
  {
   "cell_type": "code",
   "execution_count": 11,
   "metadata": {},
   "outputs": [
    {
     "data": {
      "text/plain": [
       "119.12637814430568"
      ]
     },
     "execution_count": 11,
     "metadata": {},
     "output_type": "execute_result"
    }
   ],
   "source": [
    "seed = 3\n",
    "\n",
    "np_random, seed = seeding.np_random(seed)\n",
    "S = black_evolve(s0,sigma,0,T,r,np_random.randn())\n",
    "S"
   ]
  },
  {
   "cell_type": "code",
   "execution_count": 12,
   "metadata": {},
   "outputs": [],
   "source": [
    "N_sim = int(1e4)\n",
    "S = black_evolve(s0,sigma,0,T,r,np_random.randn(N_sim))\n",
    "pay = np.maximum(S-100,0)*exp(-r*T)"
   ]
  },
  {
   "cell_type": "code",
   "execution_count": 13,
   "metadata": {},
   "outputs": [
    {
     "data": {
      "text/plain": [
       "(8.596781970360308, 0.13458920015758283)"
      ]
     },
     "execution_count": 13,
     "metadata": {},
     "output_type": "execute_result"
    }
   ],
   "source": [
    "np.mean(pay), np.std(pay)/sqrt(N_sim)"
   ]
  },
  {
   "cell_type": "code",
   "execution_count": 14,
   "metadata": {},
   "outputs": [],
   "source": [
    "S = BS.simulate(fixings=np.array([T]),Nsim=N_sim, random_gen = np_random)\n",
    "pay = np.maximum(S-100,0)*D(T)"
   ]
  },
  {
   "cell_type": "code",
   "execution_count": 15,
   "metadata": {},
   "outputs": [
    {
     "data": {
      "text/plain": [
       "(8.569997261886325, 0.13760818723986268)"
      ]
     },
     "execution_count": 15,
     "metadata": {},
     "output_type": "execute_result"
    }
   ],
   "source": [
    "np.mean(pay), np.std(pay)/sqrt(N_sim)"
   ]
  },
  {
   "cell_type": "code",
   "execution_count": 16,
   "metadata": {},
   "outputs": [
    {
     "data": {
      "text/plain": [
       "8.433318690109596"
      ]
     },
     "execution_count": 16,
     "metadata": {},
     "output_type": "execute_result"
    }
   ],
   "source": [
    "European_option_closed_form(forward= s0*exp(r*T), maturity=T, zero_interest_rate=r, volatility=sigma,typo=1, strike=100, reference=0)"
   ]
  },
  {
   "cell_type": "code",
   "execution_count": 17,
   "metadata": {},
   "outputs": [],
   "source": [
    "corr = array(([1,0],[0,1]))"
   ]
  },
  {
   "cell_type": "code",
   "execution_count": 18,
   "metadata": {},
   "outputs": [],
   "source": [
    "F2 = F\n",
    "V2 = V"
   ]
  },
  {
   "cell_type": "code",
   "execution_count": 19,
   "metadata": {},
   "outputs": [],
   "source": [
    "FF = [F,F2]\n",
    "VV = [V,V2]\n",
    "bs = Black(variance=VV, forward_curve=FF)"
   ]
  },
  {
   "cell_type": "code",
   "execution_count": 20,
   "metadata": {},
   "outputs": [],
   "source": [
    "S = bs.simulate(Ndim=2, fixings=np.array([1,2]),corr = corr, random_gen = np_random)"
   ]
  },
  {
   "cell_type": "code",
   "execution_count": 24,
   "metadata": {},
   "outputs": [
    {
     "data": {
      "text/plain": [
       "array([116.29063791, 117.7250919 ])"
      ]
     },
     "execution_count": 24,
     "metadata": {},
     "output_type": "execute_result"
    }
   ],
   "source": [
    "S[0,0,:]"
   ]
  },
  {
   "cell_type": "code",
   "execution_count": null,
   "metadata": {},
   "outputs": [],
   "source": []
  }
 ],
 "metadata": {
  "kernelspec": {
   "display_name": "Python reinforcement",
   "language": "python",
   "name": "reinforcement"
  },
  "language_info": {
   "codemirror_mode": {
    "name": "ipython",
    "version": 3
   },
   "file_extension": ".py",
   "mimetype": "text/x-python",
   "name": "python",
   "nbconvert_exporter": "python",
   "pygments_lexer": "ipython3",
   "version": "3.6.10"
  }
 },
 "nbformat": 4,
 "nbformat_minor": 4
}
